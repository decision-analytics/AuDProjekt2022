{
 "cells": [
  {
   "cell_type": "markdown",
   "metadata": {},
   "source": [
    "# Instanzen einlesen für Vertex Coloring Probleme\n",
    "\n",
    "Als Hilfestellung zum Projekt bekommt ihr von uns eine Funktion zum Einlesen von Instanzen. Zudem gebe ich euch eine kleine \"Sandkasten-Instanz\" vor."
   ]
  },
  {
   "cell_type": "markdown",
   "metadata": {},
   "source": [
    "## Struktur\n",
    "\n",
    "Es wird die Struktur von [NetworkX](https://networkx.org/documentation/stable/tutorial.html) genutzt. Wir erstellen einen ungerichteten Graph und fügen ihm Knoten und Kanten hinzu.\n",
    "\n",
    "Dafür muss NetworkX importiert werden. Wir nutzen hier das Kürzel ```nx```."
   ]
  },
  {
   "cell_type": "code",
   "execution_count": 1,
   "metadata": {},
   "outputs": [],
   "source": [
    "import networkx as nx"
   ]
  },
  {
   "cell_type": "markdown",
   "metadata": {},
   "source": [
    "## Tills triviale Testinstanz\n",
    "Um den Aufbau einer Instanz zu sehen, könnt ihr euch das folgende einfache Beispiel angucken. Mit dieser Instanz könnt ihr erste Greedy-Algorithmen ausprobieren, bei denen ihr die Ergebnisse auch händisch nachverfolgen könnt."
   ]
  },
  {
   "cell_type": "code",
   "execution_count": 2,
   "metadata": {},
   "outputs": [
    {
     "name": "stdout",
     "output_type": "stream",
     "text": [
      "Knoten: [0, 1, 2, 3, 4]\n",
      "Kanten: [(0, 1), (0, 2), (0, 4), (1, 2), (1, 3), (2, 3), (2, 4), (3, 4)]\n"
     ]
    }
   ],
   "source": [
    "g = nx.Graph()\n",
    "\n",
    "# Knoten hinzufügen\n",
    "g.add_node(0)\n",
    "g.add_node(1)\n",
    "g.add_node(2)\n",
    "g.add_node(3)\n",
    "g.add_node(4)\n",
    "\n",
    "# Kanten für Knoten 0 hinzufügen: er soll mit Knoten 1, 2 und 4 verbunden sein\n",
    "g.add_edge(0, 1)\n",
    "g.add_edge(0, 2)\n",
    "g.add_edge(0, 4)\n",
    "\n",
    "# Weitere Kanten (in kompakterer Schreibweise)\n",
    "g.add_edges_from([(1, 2), (1, 3), (2, 3), (2, 4), (3, 4)])\n",
    "\n",
    "# Ausgeben der Knoten und Kanten, um sie anzugucken\n",
    "print('Knoten:', g.nodes())\n",
    "print('Kanten:', g.edges())"
   ]
  },
  {
   "cell_type": "markdown",
   "metadata": {},
   "source": [
    "## Externe Instanzen"
   ]
  },
  {
   "cell_type": "markdown",
   "metadata": {},
   "source": [
    "Unter Verwendung von NetworkX werden Instanzen aus Textdateien eingelesen und aus ihnen wird ein ungerichteter Graph erstellt. Die Knoten sind dabei durchnummeriert benannt.\n",
    "\n",
    "Ihr könnt die Instanzen im gleich Ordner wie dieses Notebook finden (Unterordner \"instances\")."
   ]
  },
  {
   "cell_type": "code",
   "execution_count": 3,
   "metadata": {},
   "outputs": [],
   "source": [
    "def einlesen_instanz(filename):\n",
    "    file = open(filename, 'r')\n",
    "    g = nx.Graph()\n",
    "    \n",
    "    #Nodes\n",
    "    for line in file:\n",
    "        if line[0]=='p': # Anzahl der Knoten wird gesucht\n",
    "            anz_knoten = int(line.split()[2])\n",
    "            break\n",
    "    for n in range(1,anz_knoten+1): # Richtige Anzahl an Knoten wird hinzugefügt\n",
    "        g.add_node(n)\n",
    "    \n",
    "    #Edges\n",
    "    for line in file: # Alle angegebenen Kanten werden hinzugefügt\n",
    "        g.add_edge(int(line.split()[1]), int(line.split()[2]))\n",
    "    \n",
    "    return g"
   ]
  },
  {
   "cell_type": "code",
   "execution_count": 4,
   "metadata": {},
   "outputs": [],
   "source": [
    "path = './instances/myciel3.col' # Beispiel für eine der Probleminstanzen\n",
    "beispiel_graph = einlesen_instanz(path)"
   ]
  },
  {
   "cell_type": "code",
   "execution_count": 5,
   "metadata": {},
   "outputs": [
    {
     "data": {
      "text/plain": [
       "NodeView((1, 2, 3, 4, 5, 6, 7, 8, 9, 10, 11))"
      ]
     },
     "execution_count": 5,
     "metadata": {},
     "output_type": "execute_result"
    }
   ],
   "source": [
    "beispiel_graph.nodes()"
   ]
  },
  {
   "cell_type": "markdown",
   "metadata": {},
   "source": [
    "Im Laufe des Projekts könnte es hilfreich sein, die hier gegebene Graphstruktur anzupassen und/oder zu erweitern. Insbesondere das Nutzen von Graph- und Knoten-Attributen kann im Zusammenhang mit der Umsetzung des Greedy-Algorithmus zu besserer Struktur führen.\n",
    "\n",
    "Eine Erklärung zum Einbinden von Attributen (und weitere Grundlagen zu NetworkX) findet ihr [hier](https://networkx.org/documentation/stable/tutorial.html#adding-attributes-to-graphs-nodes-and-edges)."
   ]
  },
  {
   "cell_type": "markdown",
   "metadata": {},
   "source": [
    "### Ich hoffe das hilft, einen guten Start ins Projekt zu finden und wünsche euch viel Erfolg :)\n",
    "\n",
    "... und wie immer gilt: wenn ihr Fragen oder Probleme habt, schreibt mir ne Mail (till.porrmann@uni-bielefeld.de)."
   ]
  }
 ],
 "metadata": {
  "kernelspec": {
   "display_name": "Python 3",
   "language": "python",
   "name": "python3"
  },
  "language_info": {
   "codemirror_mode": {
    "name": "ipython",
    "version": 3
   },
   "file_extension": ".py",
   "mimetype": "text/x-python",
   "name": "python",
   "nbconvert_exporter": "python",
   "pygments_lexer": "ipython3",
   "version": "3.7.4"
  },
  "toc": {
   "base_numbering": 1,
   "nav_menu": {},
   "number_sections": false,
   "sideBar": true,
   "skip_h1_title": false,
   "title_cell": "Table of Contents",
   "title_sidebar": "Contents",
   "toc_cell": false,
   "toc_position": {},
   "toc_section_display": true,
   "toc_window_display": false
  },
  "varInspector": {
   "cols": {
    "lenName": 16,
    "lenType": 16,
    "lenVar": 40
   },
   "kernels_config": {
    "python": {
     "delete_cmd_postfix": "",
     "delete_cmd_prefix": "del ",
     "library": "var_list.py",
     "varRefreshCmd": "print(var_dic_list())"
    },
    "r": {
     "delete_cmd_postfix": ") ",
     "delete_cmd_prefix": "rm(",
     "library": "var_list.r",
     "varRefreshCmd": "cat(var_dic_list()) "
    }
   },
   "types_to_exclude": [
    "module",
    "function",
    "builtin_function_or_method",
    "instance",
    "_Feature"
   ],
   "window_display": false
  }
 },
 "nbformat": 4,
 "nbformat_minor": 2
}
