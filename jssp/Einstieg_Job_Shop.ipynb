{
 "cells": [
  {
   "cell_type": "markdown",
   "metadata": {},
   "source": [
    "# Fragen:"
   ]
  },
  {
   "cell_type": "markdown",
   "metadata": {},
   "source": [
    "### Wieso lösen wir unser Problem nicht optimal?\n",
    "### Wie können wir für ein NP-schweres Problem sehr schnell eine akzeptable Lösung finden?\n",
    "### Können wir eine bessere Lösung finden, wenn wir mehr Zeit investieren?"
   ]
  },
  {
   "cell_type": "code",
   "execution_count": null,
   "metadata": {},
   "outputs": [],
   "source": [
    " "
   ]
  },
  {
   "cell_type": "markdown",
   "metadata": {},
   "source": [
    "# Job Shop Scheduling Problem"
   ]
  },
  {
   "cell_type": "markdown",
   "metadata": {},
   "source": [
    "### Ideen für eine Greedy Heuristik?"
   ]
  },
  {
   "cell_type": "code",
   "execution_count": null,
   "metadata": {},
   "outputs": [],
   "source": []
  },
  {
   "cell_type": "markdown",
   "metadata": {},
   "source": [
    "# Instanzen einlesen"
   ]
  },
  {
   "cell_type": "code",
   "execution_count": 1,
   "metadata": {},
   "outputs": [],
   "source": [
    "#Link zu den Instanzen\n",
    "#https://github.com/dothinking/jsp_framework/tree/master/jsp_fwk/benchmark/instances\n",
    "\n",
    "#Beispiel zum runterladen der Instanzen\n",
    "#https://downgit.github.io/#/home?url=https://github.com/dothinking/jsp_framework/tree/master/jsp_fwk/benchmark/instances"
   ]
  },
  {
   "cell_type": "code",
   "execution_count": 2,
   "metadata": {},
   "outputs": [],
   "source": [
    "###Alles ohne Gewähr!!!\n",
    "def read_jssp(filename):\n",
    "    \n",
    "    skip_lines = 4\n",
    "    jobs = None\n",
    "    machines = None\n",
    "    all_jobs = []\n",
    "    \n",
    "    with open(filename) as f: # öffne die Datei\n",
    "        for e,l in enumerate(f):\n",
    "            if e == skip_lines:\n",
    "                line = l.split() # splitte die Zeile in Einzelelemente\n",
    "                jobs = int(line[0]) #Anzahl der Jobs in der Instanz einlesen\n",
    "                machines = int(line[1]) #Anzahl der Maschinen in der Instanz einlesen\n",
    "                \n",
    "            if e > skip_lines:\n",
    "                line = l.split() # splitte die Zeile in Einzelelemente\n",
    "                s = []\n",
    "                job = []\n",
    "                for n in line:\n",
    "                    s.append(int(n))\n",
    "                    if len(s) == 2:\n",
    "                        s = tuple(s)   #Sind Tuple für euch neu? -> Ihr könnt es auch ohne Tuple machen und als Liste belassen\n",
    "                        job.append(s)\n",
    "                        s = []\n",
    "                all_jobs.append(job)\n",
    "\n",
    "    return jobs, machines, all_jobs\n",
    "                 \n",
    "                    \n",
    "                    \n",
    "\n",
    "\n",
    "            "
   ]
  },
  {
   "cell_type": "code",
   "execution_count": 3,
   "metadata": {},
   "outputs": [
    {
     "name": "stdout",
     "output_type": "stream",
     "text": [
      "jobs:  6\n",
      "machines:  6\n",
      "Job 0 : [(2, 1), (0, 3), (1, 6), (3, 7), (5, 3), (4, 6)]\n",
      "Job 1 : [(1, 8), (2, 5), (4, 10), (5, 10), (0, 10), (3, 4)]\n",
      "Job 2 : [(2, 5), (3, 4), (5, 8), (0, 9), (1, 1), (4, 7)]\n",
      "Job 3 : [(1, 5), (0, 5), (2, 5), (3, 3), (4, 8), (5, 9)]\n",
      "Job 4 : [(2, 9), (1, 3), (4, 5), (5, 4), (0, 3), (3, 1)]\n",
      "Job 5 : [(1, 3), (3, 3), (5, 9), (0, 10), (4, 4), (2, 1)]\n"
     ]
    }
   ],
   "source": [
    "filename = \"./instances/ft06\"\n",
    "\n",
    "jobs, machines, all_jobs = read_jssp(filename)\n",
    "\n",
    "print(\"jobs: \" , jobs)\n",
    "print(\"machines: \" , machines)\n",
    "for e,i in enumerate(all_jobs):\n",
    "    print(f'Job {e} : {i}')\n",
    "#(Maschine, Bearbeitungsdauer)"
   ]
  },
  {
   "cell_type": "code",
   "execution_count": 4,
   "metadata": {},
   "outputs": [
    {
     "name": "stdout",
     "output_type": "stream",
     "text": [
      "all_jobs:  [[(2, 1), (0, 3), (1, 6), (3, 7), (5, 3), (4, 6)], [(1, 8), (2, 5), (4, 10), (5, 10), (0, 10), (3, 4)], [(2, 5), (3, 4), (5, 8), (0, 9), (1, 1), (4, 7)], [(1, 5), (0, 5), (2, 5), (3, 3), (4, 8), (5, 9)], [(2, 9), (1, 3), (4, 5), (5, 4), (0, 3), (3, 1)], [(1, 3), (3, 3), (5, 9), (0, 10), (4, 4), (2, 1)]]\n",
      "\n",
      "(0, 9)\n",
      "<class 'tuple'>\n",
      "9\n",
      "<class 'int'>\n"
     ]
    }
   ],
   "source": [
    "print(\"all_jobs: \" , all_jobs)\n",
    "print(\"\")\n",
    "print(all_jobs[2][3])\n",
    "print(type((all_jobs[2][3])))\n",
    "print(all_jobs[2][3][1])\n",
    "print(type(all_jobs[2][3][1]))"
   ]
  },
  {
   "cell_type": "markdown",
   "metadata": {},
   "source": [
    "# To Do"
   ]
  },
  {
   "cell_type": "markdown",
   "metadata": {},
   "source": [
    "### Bis nächste Woche Greedy Heuristik\n",
    "### Rollout bis Zwischenpräsentation, ggf Multi Step Lookahead"
   ]
  },
  {
   "cell_type": "code",
   "execution_count": null,
   "metadata": {},
   "outputs": [],
   "source": []
  },
  {
   "cell_type": "code",
   "execution_count": null,
   "metadata": {},
   "outputs": [],
   "source": []
  },
  {
   "cell_type": "code",
   "execution_count": null,
   "metadata": {},
   "outputs": [],
   "source": []
  },
  {
   "cell_type": "code",
   "execution_count": null,
   "metadata": {},
   "outputs": [],
   "source": []
  },
  {
   "cell_type": "code",
   "execution_count": null,
   "metadata": {},
   "outputs": [],
   "source": []
  },
  {
   "cell_type": "code",
   "execution_count": null,
   "metadata": {},
   "outputs": [],
   "source": []
  },
  {
   "cell_type": "code",
   "execution_count": null,
   "metadata": {},
   "outputs": [],
   "source": []
  },
  {
   "cell_type": "code",
   "execution_count": null,
   "metadata": {},
   "outputs": [],
   "source": []
  }
 ],
 "metadata": {
  "kernelspec": {
   "display_name": "Python 3",
   "language": "python",
   "name": "python3"
  },
  "language_info": {
   "codemirror_mode": {
    "name": "ipython",
    "version": 3
   },
   "file_extension": ".py",
   "mimetype": "text/x-python",
   "name": "python",
   "nbconvert_exporter": "python",
   "pygments_lexer": "ipython3",
   "version": "3.7.4"
  }
 },
 "nbformat": 4,
 "nbformat_minor": 2
}
