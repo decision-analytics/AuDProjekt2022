{
 "cells": [
  {
   "cell_type": "markdown",
   "metadata": {
    "slideshow": {
     "slide_type": "slide"
    }
   },
   "source": [
    "\n",
    "<img src=\"img/logo_wiwi.png\" width=\"25%\" align=\"left\">\n",
    "\n",
    "<img src=\"img/decision_analytics_logo.png\" width=\"17%\" align=\"right\">\n",
    "\n",
    "\n",
    "\n",
    "<br><br><br><br><br><br><br><br>\n",
    "\n",
    "\n",
    "\n",
    "# Algorithmen und Datenstrukturen(A+D)-Projekt \n",
    "\n",
    "**Sommersemester 2022**\n",
    "\n",
    "\n",
    "# 4. Rollout-Varianten\n",
    "\n",
    "<br>\n",
    "\n",
    "<br>\n",
    "<br>\n",
    "\n",
    "**J-Prof. Dr. Michael Römer, Till Porrmann, Jakob Schulte, Henning Witteborg**\n",
    "\n",
    "Juniorprofessur für Decision Analytics  | Universität Bielefeld"
   ]
  },
  {
   "cell_type": "code",
   "execution_count": 2,
   "metadata": {
    "slideshow": {
     "slide_type": "skip"
    }
   },
   "outputs": [],
   "source": [
    "import matplotlib.pyplot as plt\n",
    "import numpy as np\n",
    "from numba import njit"
   ]
  },
  {
   "cell_type": "code",
   "execution_count": null,
   "metadata": {},
   "outputs": [],
   "source": []
  },
  {
   "cell_type": "markdown",
   "metadata": {
    "slideshow": {
     "slide_type": "slide"
    }
   },
   "source": [
    "## Was machen wir heute?\n",
    "\n",
    "**Organisatorisch:**\n",
    "- Erste Eindrücke vom Projekt\n",
    "- Zuteilung der Projektbetreuer\n",
    "\n",
    "**Inhaltlich:**\n",
    "- Rollout, etwas anders implementiert und interpretiert\n",
    "- Multi-Start Rollout\n",
    "- Rollout mit Multistep Lookahead\n",
    "\n",
    "\n",
    "\n"
   ]
  },
  {
   "cell_type": "markdown",
   "metadata": {
    "slideshow": {
     "slide_type": "slide"
    }
   },
   "source": [
    "# Organisatorisches"
   ]
  },
  {
   "cell_type": "markdown",
   "metadata": {
    "slideshow": {
     "slide_type": "slide"
    }
   },
   "source": [
    "## Erste Eindrücke aus der Projektarbeit\n",
    "\n",
    "- Konnten Sie sich mit dem Thema vertraut machen?\n",
    "- Haben Sie bereits ein Greedy-Verfahren gefunden?\n",
    "  - ggf. schon erste Implementierungsversuche?\n",
    "- Haben Sie Instanzen gefunden?\n",
    "  - wenn ja, können Sie diese bereits einlesen?\n",
    "- Haben Sie Fragen / Probleme, die wir hier diskutieren können?\n",
    "  "
   ]
  },
  {
   "cell_type": "markdown",
   "metadata": {
    "slideshow": {
     "slide_type": "slide"
    }
   },
   "source": [
    "## Betreuer der Projektgruppen:\n",
    "\n",
    "|Gruppe | Thema | Gruppenmitglieder | Betreuer\n",
    "|-|:-|:-|:-\n",
    "|1| Set Covering | SA, EB, HC, KB, HH | Henning Witteborg\n",
    "|2| Set Covering | GK, FD, GF, FE, AA | Henning Witteborg\n",
    "|3| Maximum Independent Set | RF, MF, SH, SR | Michael Römer\n",
    "|4| Maximum Independent Set | AE, KS, DS | Michael Römer\n",
    "|5| Vertex Coloring | JF, LM, IT, JS | Till Porrmann\n",
    "|6| Vertex Coloring | AH, NK, NS, DP | Till Porrmann\n",
    "|7| Job Shop Scheduling | JB, JR, CG, PH | Jakob Schulte\n",
    "|8| Job Shop Scheduling| LF, LH, FS, SK | Jakob Schulte\n",
    "\n",
    "- Vereinbaren Sie gern per E-Mail / nach der Veranstaltung einen ersten \"Kennenlerntermin\"!"
   ]
  },
  {
   "cell_type": "markdown",
   "metadata": {
    "slideshow": {
     "slide_type": "slide"
    }
   },
   "source": [
    "# Inhaltlicher Teil\n"
   ]
  },
  {
   "cell_type": "markdown",
   "metadata": {
    "slideshow": {
     "slide_type": "slide"
    }
   },
   "source": [
    "## Das Python-Paket `python-tsp`\n",
    "\n",
    "siehe: https://github.com/fillipe-gsm/python-tsp\n",
    "\n",
    "### bietet:\n",
    "- Funktionen zum Einlesen von TSP-Instanzen im tsplib-format\n",
    "  \n",
    "  \n",
    "  "
   ]
  },
  {
   "cell_type": "code",
   "execution_count": 12,
   "metadata": {
    "slideshow": {
     "slide_type": "-"
    }
   },
   "outputs": [],
   "source": [
    "from python_tsp.distances import tsplib_distance_matrix\n",
    "\n",
    "#tsplib_file = \"./../problems/tsp/instances/a280.tsp\" # optimale Lösung 2579 (lt. http://comopt.ifi.uni-heidelberg.de/software/TSPLIB95/STSP.html)\n",
    "#tsplib_file = \"./../problems/tsp/instances/brazil58.tsp\" # optimale Lösung 25395 (lt. http://comopt.ifi.uni-heidelberg.de/software/TSPLIB95/STSP.html)\n",
    "tsplib_file = \"./../problems/tsp/instances/berlin52.tsp\" # optimale Lösung 7542 (lt. http://comopt.ifi.uni-heidelberg.de/software/TSPLIB95/STSP.html)\n",
    "\n",
    "distance_matrix = tsplib_distance_matrix(tsplib_file)"
   ]
  },
  {
   "cell_type": "markdown",
   "metadata": {
    "slideshow": {
     "slide_type": "slide"
    }
   },
   "source": [
    "## Der Nearest-Neighbor-Algortihmus als Beispiel für ein Greedy-Verfahren"
   ]
  },
  {
   "cell_type": "markdown",
   "metadata": {
    "slideshow": {
     "slide_type": "-"
    }
   },
   "source": [
    "<img src=\"./img/32.png\" width=\"20%\" align=\"right\">\n",
    "\n",
    "\n",
    "Eine einfache und sehr bekannte Heuristik für das SHPP (und das TSP) nennt sich **nearest neighbor**:\n",
    "- man startet bei einem Knoten und\n",
    "- wählt in jedem Schritt immer den Knoten aus, der dem aktuellen am nächsten ist:\n",
    "\n",
    "Beispiel rechts: wir starten in Marin und suchen immer den nächsten Nachbarn"
   ]
  },
  {
   "cell_type": "markdown",
   "metadata": {
    "slideshow": {
     "slide_type": "slide"
    }
   },
   "source": [
    "## Nearest Neighor in Python: Überblick\n",
    "\n",
    "**Wie funktioniert der Algorithmus?**\n",
    "\n",
    "**Eingabe:** Distanzmatrix, Startknoten\n",
    "\n",
    "- aktueller Knoten `node` := Startknoten\n",
    "- Solange noch nicht alle Knoten besucht wurden:\n",
    "  - wähle den **noch nicht besuchten** Knoten **mit kürzester Distanz** von `node`\n",
    "  - füge den Knoten zur Tour (Liste der besuchten Knoten) hinzu"
   ]
  },
  {
   "cell_type": "markdown",
   "metadata": {
    "slideshow": {
     "slide_type": "fragment"
    }
   },
   "source": [
    "**Die Länge der Tour** berechnet sich dann als:\n",
    "- Distanz zwischen jedem Knoten und Nachfolger in der Tour\n",
    "    - wobei der Nachfolger des letzen Knotens der Startknoten ist\n",
    "- diese Berechnung kann natürlich \"on-the-fly\" im Nearest-Neighbor-Algorithmus berechnet werden"
   ]
  },
  {
   "cell_type": "markdown",
   "metadata": {
    "slideshow": {
     "slide_type": "slide"
    }
   },
   "source": [
    "## Hilfsfunktion: `select_nearest_neighbor`\n",
    "\n",
    "- wir ändern / vereinfachen unsere bisherige Implementierung der Hilfsfunktion\n",
    "- wir brauchen eigentlich neben der Distanzmatrix nur die Permutationsliste\n",
    "  - das letzte Element ist der Knoten, von dem aus gesucht wird\n",
    "- wir nutzen wieder `njit` von numba (könnte man auch weglassen, wäre dann aber langsamer)"
   ]
  },
  {
   "cell_type": "code",
   "execution_count": 356,
   "metadata": {
    "slideshow": {
     "slide_type": "-"
    }
   },
   "outputs": [],
   "source": [
    "@njit\n",
    "def select_nearest_neighbor(permutation, distance_matrix ):\n",
    "    \n",
    "    # node ist der letzte Knoten der Permutation\n",
    "    # wir könnten auch permutation[-1] schreiben, aber das funktioniert mit Numba nicht\n",
    "    node = permutation[len(permutation)-1]\n",
    "    \n",
    "    smallest_distance = 9999999999 ## grosser Wert\n",
    "    nearest_neighbor = 0\n",
    "    \n",
    "    #Anzahl an Knoten = Dimension der Distanzmatrix\n",
    "    for neighbor in range(len(distance_matrix)):\n",
    "        \n",
    "        if neighbor in permutation:\n",
    "            continue\n",
    "            \n",
    "        if distance_matrix[node][neighbor] < smallest_distance:\n",
    "            nearest_neighbor = neighbor\n",
    "            smallest_distance = distance_matrix[node][neighbor]            \n",
    "       \n",
    "    return nearest_neighbor, smallest_distance "
   ]
  },
  {
   "cell_type": "markdown",
   "metadata": {
    "slideshow": {
     "slide_type": "slide"
    }
   },
   "source": [
    "## Implementierung des Nearest-Neighbor-Algorithmus\n",
    "- wir nutzen nun die neue Funktion in der Implementierung des Nearest Neighbor-Algorithmus\n",
    "- auch hier haben wir die Implementierung etwas vereinfacht:\n",
    "  - wir übergeben nur eine Permutation und die Distanzmatrix\n",
    "\n",
    "- beim alleinigen Aufruf des Algorithmus übergeben wir eine Liste mit einem Startknoten\n",
    "- bei Verwendung im Rollout-Algorithmus übergeben wir die bisherige Permutatoin\n"
   ]
  },
  {
   "cell_type": "code",
   "execution_count": 357,
   "metadata": {
    "slideshow": {
     "slide_type": "fragment"
    }
   },
   "outputs": [],
   "source": [
    "@njit\n",
    "def tsp_nearest_neighbor(permutation, distance_matrix ):\n",
    "    \n",
    "    total_distance = 0\n",
    "    \n",
    "    #solange die sequenz noch nicht alle Knoten umfasst\n",
    "    while len(permutation) < len(distance_matrix):\n",
    "        \n",
    "        node, distance = select_nearest_neighbor(permutation, distance_matrix )\n",
    "        \n",
    "        permutation.append(node)\n",
    "        total_distance += distance\n",
    "        \n",
    "    total_distance += distance_matrix[permutation[len(permutation)-1], permutation[0]]\n",
    "    return permutation, total_distance\n"
   ]
  },
  {
   "cell_type": "markdown",
   "metadata": {
    "slideshow": {
     "slide_type": "fragment"
    }
   },
   "source": [
    "..probieren wir es aus:"
   ]
  },
  {
   "cell_type": "code",
   "execution_count": 360,
   "metadata": {
    "slideshow": {
     "slide_type": "-"
    }
   },
   "outputs": [
    {
     "name": "stdout",
     "output_type": "stream",
     "text": [
      "8980\n"
     ]
    }
   ],
   "source": [
    "permutation, distance = tsp_nearest_neighbor([0], distance_matrix)\n",
    "print(distance)"
   ]
  },
  {
   "cell_type": "markdown",
   "metadata": {
    "slideshow": {
     "slide_type": "slide"
    }
   },
   "source": [
    "## Eine Routine zum Evaluieren einer Lösung\n",
    "\n",
    "- immer wenn man nicht-triviale Algorithmen für Optimierungsprobleme entwickelt, sollte man einen \"Solution-Checker\" schreiben / nutzen"
   ]
  },
  {
   "cell_type": "markdown",
   "metadata": {
    "slideshow": {
     "slide_type": "slide"
    }
   },
   "source": [
    "**Im Fall des TSP gilt es:**\n",
    "- zu prüfen, ob\n",
    "  - die Lösung die Richtige Anzahl an Knoten enthält\n",
    "  - dass es sich bei der Lösung tatsächlich um eine Permutation der Indizes handelt (kein Index kommt zweimal vor)\n",
    "- die Distanz der Tour zu berechnen"
   ]
  },
  {
   "cell_type": "code",
   "execution_count": 27,
   "metadata": {
    "slideshow": {
     "slide_type": "-"
    }
   },
   "outputs": [],
   "source": [
    "def evaluate_tsp_solution(distance_matrix, permutation):\n",
    "    n = len(distance_matrix)\n",
    "    if len(permutation) != n:\n",
    "        print (\"Wrong number of nodes\")\n",
    "        return -1\n",
    "     # Menge der Lösungsindizes muss = der Menge der Indizes von 0 bis n-1 sein\n",
    "    if set(permutation) != set(range(n)):\n",
    "        print (\"Not a proper permutation!\")\n",
    "        return  -1\n",
    "    \n",
    "    total_distance = 0\n",
    "    for i in range(n):\n",
    "        if i < n-1:\n",
    "            total_distance += distance_matrix[permutation[i],permutation[i+1]]\n",
    "        else:\n",
    "            total_distance += distance_matrix[permutation[i],permutation[0]]   \n",
    "            \n",
    "    return total_distance    "
   ]
  },
  {
   "cell_type": "markdown",
   "metadata": {
    "slideshow": {
     "slide_type": "slide"
    }
   },
   "source": [
    "## Erweiterung: Evaluation zum Überprüfen einer gegebenen Distanz\n",
    "\n",
    "- oftmals ist es nützlich, in einer Funktion direkt die vom Algorithmus berechnete Distanz zu prüfen\n",
    "- folgende Funktion macht eine entsprechende Ergebnisausgabe:\n"
   ]
  },
  {
   "cell_type": "code",
   "execution_count": 28,
   "metadata": {
    "slideshow": {
     "slide_type": "slide"
    }
   },
   "outputs": [],
   "source": [
    "def print_obj_and_eval_tsp_solution(distance_matrix, permutation, distance):\n",
    "    \n",
    "    eval_distance = evaluate_tsp_solution(distance_matrix, permutation)\n",
    "    \n",
    "    if distance == eval_distance:\n",
    "        print (\"Solution feasible, distance is: \", distance)\n",
    "    elif eval_distance < 0:\n",
    "        print(\"Solution infeasible\")\n",
    "    else: \n",
    "        print(\"Solution feasible, wrong distance: \", distance, \" evaluation gave \", eval_distance)"
   ]
  },
  {
   "cell_type": "code",
   "execution_count": 360,
   "metadata": {
    "slideshow": {
     "slide_type": "-"
    }
   },
   "outputs": [
    {
     "name": "stdout",
     "output_type": "stream",
     "text": [
      "8980\n"
     ]
    }
   ],
   "source": [
    "permutation, distance = tsp_nearest_neighbor([0], distance_matrix)\n",
    "print_obj_and_eval_tsp_solution(distance_matrix, permutation, distance)"
   ]
  },
  {
   "cell_type": "markdown",
   "metadata": {
    "slideshow": {
     "slide_type": "slide"
    }
   },
   "source": [
    "## Multistart-Nearest Neighbor\n",
    "\n",
    "- wir hatten gesehen, dass es sich lohnen kann, an allen möglichen Knoten zu starten:"
   ]
  },
  {
   "cell_type": "code",
   "execution_count": 361,
   "metadata": {
    "slideshow": {
     "slide_type": "-"
    }
   },
   "outputs": [],
   "source": [
    "def tsp_multistart_nearest_neighbor(distance_matrix):\n",
    "    best_permutation = []\n",
    "    best_distance = 999999\n",
    "    \n",
    "    for i in range(len(distance_matrix)):\n",
    "        permutation, distance = tsp_nearest_neighbor([i], distance_matrix)\n",
    "        \n",
    "        if distance < best_distance:\n",
    "            best_permutation = permutation\n",
    "            best_distance = distance\n",
    "    \n",
    "    return best_permutation, best_distance\n",
    "    "
   ]
  },
  {
   "cell_type": "code",
   "execution_count": 362,
   "metadata": {},
   "outputs": [
    {
     "name": "stdout",
     "output_type": "stream",
     "text": [
      "Solution feasible, distance is:  8181\n"
     ]
    }
   ],
   "source": [
    "permutation, distance = tsp_multistart_nearest_neighbor( distance_matrix)\n",
    "print_obj_and_eval_tsp_solution(distance_matrix, permutation, distance)"
   ]
  },
  {
   "cell_type": "markdown",
   "metadata": {
    "slideshow": {
     "slide_type": "slide"
    }
   },
   "source": [
    "## Nearest Neighbor vs Rollout\n",
    "- beim Nearest Neighbor wählen wir als nächsten Knoten den mit der kürzesten Distanz zum letzten Knoten in der partiellen Tour:\n",
    "\n",
    "<img src=\"./img/single_trajectory.png\" width=\"50%\">\n",
    "\n",
    "- beim Rollout wählen wir den mit dem kleinsten Q-Faktor, bestehend aus der Summe von\n",
    "  - Distanz zum letzen Knoten\n",
    "  - Länge der Rest-Tour vom letzten Knoten aus\n",
    "\n",
    "<img src=\"./img/rollout_general.png\" width=\"50%\">"
   ]
  },
  {
   "cell_type": "markdown",
   "metadata": {
    "slideshow": {
     "slide_type": "slide"
    }
   },
   "source": [
    "## Rollout, eine neue Implementierung\n",
    "- beim Nearest Neighbor wählen wir als nächsten Knoten den mit der kürzesten Distanz zum letzten Knoten in der partiellen Tour\n",
    "- beim Rollout wählen wir den mit dem kleinsten Q-Faktor, bestehend aus der Summe von\n",
    "  - Distanz zum letzen Knoten\n",
    "  - Länge der Rest-Tour vom letzten Knoten aus\n",
    "\n",
    "- diese Auswahl lagern wir nun wie beim Nearest Neighbor in eine Funktion aus:\n",
    "  - Tipp: Ein Vergleich mit der Funktion `select_nearest_neighbor` zeigt die Ähnlichkeit beider Funktionen!"
   ]
  },
  {
   "cell_type": "code",
   "execution_count": 369,
   "metadata": {
    "slideshow": {
     "slide_type": "-"
    }
   },
   "outputs": [],
   "source": [
    "@njit\n",
    "def select_using_rollout_nn(permutation, distance_matrix):\n",
    "    \n",
    "    node = permutation[len(permutation)-1] \n",
    "    best_q_value = 1000000\n",
    "    best_node = node        \n",
    "        \n",
    "    for next_node in range(len(distance_matrix)):\n",
    "        if next_node in permutation: \n",
    "            continue            \n",
    "        # _, heißt, dass wir den ersten Rückgabewert ignorieren\n",
    "        \n",
    "        # Berechne die NN-Länge der Rest-Tour von next_node aus\n",
    "        _, nn_value = tsp_nearest_neighbor(permutation + [next_node], distance_matrix)\n",
    "        \n",
    "        q_value = distance_matrix[node,next_node] + nn_value\n",
    "\n",
    "        if q_value < best_q_value:\n",
    "            best_node = next_node\n",
    "            best_q_value = q_value\n",
    "\n",
    "    \n",
    "   \n",
    "    return best_node, distance_matrix[node,best_node]\n"
   ]
  },
  {
   "cell_type": "markdown",
   "metadata": {
    "slideshow": {
     "slide_type": "slide"
    }
   },
   "source": [
    "## Die Hauptfunktion:"
   ]
  },
  {
   "cell_type": "code",
   "execution_count": 372,
   "metadata": {
    "slideshow": {
     "slide_type": "-"
    }
   },
   "outputs": [],
   "source": [
    "@njit\n",
    "def tsp_rollout_nn(permutation, distance_matrix):\n",
    "        \n",
    "    total_distance = 0\n",
    "    \n",
    "    #solange die sequenz noch nicht alle Knoten umfasst\n",
    "    while len(permutation) < len(distance_matrix):    \n",
    "        \n",
    "        next_node, distance = select_using_rollout_nn(permutation, distance_matrix)\n",
    "        permutation.append(next_node)\n",
    "        total_distance += distance     \n",
    "        \n",
    "    total_distance += distance_matrix[permutation[len(permutation)-1],permutation[0]]\n",
    "    return permutation, total_distance"
   ]
  },
  {
   "cell_type": "markdown",
   "metadata": {
    "slideshow": {
     "slide_type": "-"
    }
   },
   "source": [
    "..probieren wir es wieder aus:"
   ]
  },
  {
   "cell_type": "code",
   "execution_count": 374,
   "metadata": {
    "slideshow": {
     "slide_type": "-"
    }
   },
   "outputs": [
    {
     "name": "stdout",
     "output_type": "stream",
     "text": [
      "Solution feasible, distance is:  8042\n"
     ]
    }
   ],
   "source": [
    "permutation, distance = tsp_rollout_nn([0], distance_matrix)\n",
    "print_obj_and_eval_tsp_solution(distance_matrix, permutation, distance)\n",
    "\n"
   ]
  },
  {
   "cell_type": "markdown",
   "metadata": {
    "slideshow": {
     "slide_type": "slide"
    }
   },
   "source": [
    "## Übung: Multistart Rollout\n",
    "\n",
    "\n",
    "><div class=\"alert alert-block alert-info\">\n",
    "<b>Implementieren Sie eine Multistart-Rollout-Funktion! </b></div>  "
   ]
  },
  {
   "cell_type": "code",
   "execution_count": null,
   "metadata": {},
   "outputs": [],
   "source": [
    "def tsp_multistart_nearest_neighbor(distance_matrix):\n",
    "    "
   ]
  },
  {
   "cell_type": "markdown",
   "metadata": {
    "slideshow": {
     "slide_type": "slide"
    }
   },
   "source": [
    "## Simplified Rollout\n",
    "\n",
    "- wir wollen nun auch die Idee des Simplified Rollout übertragen in die neue Form der Implementierung\n",
    "\n",
    "><div class=\"alert alert-block alert-info\">\n",
    "<b>Wo müssen die größeren Änderungen durchgeführt werden - in der `select`-Hilfsfunktion oder in der Hauptfunktion?</b></div>  "
   ]
  },
  {
   "cell_type": "markdown",
   "metadata": {
    "slideshow": {
     "slide_type": "slide"
    }
   },
   "source": [
    "## Simplified Rollout: Die Select-Funktion"
   ]
  },
  {
   "cell_type": "code",
   "execution_count": 429,
   "metadata": {
    "slideshow": {
     "slide_type": "fragment"
    }
   },
   "outputs": [],
   "source": [
    "@njit\n",
    "def select_using_simplified_rollout_nn(permutation, distance_matrix,  max_number_of_neighbors_rollout):\n",
    "    \n",
    "    node = permutation[len(permutation)-1] \n",
    "                                    \n",
    "    best_q_value = 1000000\n",
    "    best_node = node\n",
    "   \n",
    "    sorted_neighbors = np.argsort(distance_matrix[node])\n",
    "    \n",
    "    number_of_neighbors_rollout = 0\n",
    "    for next_node in sorted_neighbors:\n",
    "        if next_node in permutation: \n",
    "            continue            \n",
    "       \n",
    "        \n",
    "        number_of_neighbors_rollout += 1\n",
    "        # zähler wenn \n",
    "        if number_of_neighbors_rollout > max_number_of_neighbors_rollout:\n",
    "            break     \n",
    "                                    \n",
    "                \n",
    "        _, nn_value = tsp_nearest_neighbor(permutation + [next_node], distance_matrix)\n",
    "        \n",
    "        q_value = distance_matrix[node,next_node] + nn_value\n",
    "\n",
    "        if q_value < best_q_value:\n",
    "            best_node = next_node\n",
    "            best_q_value = q_value\n",
    "\n",
    "    return best_node, distance_matrix[node,best_node]\n",
    "\n"
   ]
  },
  {
   "cell_type": "markdown",
   "metadata": {
    "slideshow": {
     "slide_type": "slide"
    }
   },
   "source": [
    "## Simplified Rollout: Die Hauptfunktion"
   ]
  },
  {
   "cell_type": "code",
   "execution_count": 430,
   "metadata": {
    "slideshow": {
     "slide_type": "-"
    }
   },
   "outputs": [],
   "source": [
    "@njit\n",
    "def tsp_simplified_rollout_nn(permutation, distance_matrix, max_number_of_neighbors_rollout):\n",
    "        \n",
    "    total_distance = 0\n",
    "    \n",
    "    #solange die sequenz noch nicht alle Knoten umfasst\n",
    "    while len(permutation) < len(distance_matrix):    \n",
    "        \n",
    "        next_node, distance = select_using_simplified_rollout_nn(permutation, distance_matrix, max_number_of_neighbors_rollout)\n",
    "        permutation.append(next_node)\n",
    "        total_distance += distance     \n",
    "        \n",
    "    total_distance += distance_matrix[permutation[len(permutation)-1],permutation[0]]\n",
    "    return permutation, total_distance"
   ]
  },
  {
   "cell_type": "markdown",
   "metadata": {
    "slideshow": {
     "slide_type": "fragment"
    }
   },
   "source": [
    "...probieren wir es aus:"
   ]
  },
  {
   "cell_type": "code",
   "execution_count": 433,
   "metadata": {
    "slideshow": {
     "slide_type": "-"
    }
   },
   "outputs": [
    {
     "name": "stdout",
     "output_type": "stream",
     "text": [
      "Solution feasible, distance is:  8687\n"
     ]
    }
   ],
   "source": [
    "max_number_of_neighbors_rollout = 3\n",
    "permutation, distance = tsp_simplified_rollout_nn([0], distance_matrix, max_number_of_neighbors_rollout)\n",
    "print_obj_and_eval_tsp_solution(distance_matrix, permutation, distance)\n"
   ]
  },
  {
   "cell_type": "markdown",
   "metadata": {
    "slideshow": {
     "slide_type": "slide"
    }
   },
   "source": [
    "## Rollout als *one-step-lookahead*\n",
    "\n",
    "Wir wollen uns nun folgende Interpretation des Rollout-Algorithmus anschauen:\n",
    "- beim Rollout machen wir eine Art \"Vorschau\" (*lookahead*):\n",
    "- anstatt nur auf den *kurzfristigen Effekt* zu schauen, wird die Qualität der \"Rest-Tour\" mittels Nearest Neighbor *abgeschätzt* und aus beiden der *Q-Faktor* / *Q-Wert* gebildet\n",
    "- der Schritt, bei dem wir das Minimum über alle zulässigen Nachbarn betrachten, wird manchmal auch *one-step lookahead minimization* genannt\n",
    " - bei uns passiert das in der Funktion `select_using_rollout_nn`\n",
    "\n",
    "\n"
   ]
  },
  {
   "cell_type": "markdown",
   "metadata": {
    "slideshow": {
     "slide_type": "slide"
    }
   },
   "source": [
    "## Varianten des Rollout\n",
    "\n",
    "Allgemein kann man sagen, dass beim Rollout in der \"lookahead-Schleife\" ein *scnheller, heuristischer Algorithmus* zur Lösung des Restproblems aufgerufen wird\n",
    "- je besser diese Abschätzung, desto besser sollte die letztendliche Gesamtlösung werden\n",
    "\n",
    "Dies führt zu einer Reihe von Varianten dieser Idee, \n",
    "- Rollout mit mehreren Heuristiken / Greedy-Verfahren, die zu einer *super-heuristic* zusammengefasst werden\n",
    "  - verschiedene Algorithmen werden auf das Restproblem angewendet\n",
    "  - der beste Zielfunktionswert wird zur Abschätzung genutzt\n",
    "- *Multi-Step-Lookahead*\n",
    "  - dabei wird der gesamte Rollout-Algorithmus (inkl. lookahead-Minimierung) zur Abschätzung genutzt\n",
    "  - das schauen wir uns jetzt einmal an\n",
    "\n",
    "\n"
   ]
  },
  {
   "cell_type": "markdown",
   "metadata": {
    "slideshow": {
     "slide_type": "slide"
    }
   },
   "source": [
    "## Von One-Step zu Two-Step Lookahead\n",
    "\n",
    "- anstatt bei der Auswahl des nächsten Knotens direkt die Heuristik (z.B. nearest neighbor) laufen zu lassen\n",
    "- nutzen wir den kompletten Rollout-Algorithmus (inkl. one-step lookahead)\n",
    "\n",
    "<img src=\"./img/mulistep_lookahead.png\" width=\"60%\">\n"
   ]
  },
  {
   "cell_type": "markdown",
   "metadata": {
    "slideshow": {
     "slide_type": "slide"
    }
   },
   "source": [
    "## Von One-Step zu Two-Step Lookahead\n",
    "\n",
    "- anstatt bei der Auswahl des nächsten Knotens direkt die Heuristik (z.B. nearest neighbor) laufen zu lassen\n",
    "- nutzen wir den kompletten Rollout-Algorithmus (inkl. one-step lookahead)\n",
    "- die Implementierung der entsprechenden \"Select\"-Funktion ist relativ einfach...\n",
    "\n",
    "\n",
    "><div class=\"alert alert-block alert-info\">\n",
    "<b>Vervollständigen Sie die Implementierung unten! </b></div>  \n",
    "\n"
   ]
  },
  {
   "cell_type": "code",
   "execution_count": 427,
   "metadata": {
    "slideshow": {
     "slide_type": "-"
    }
   },
   "outputs": [],
   "source": [
    "@njit\n",
    "def select_using_two_step_lookahead(permutation, distance_matrix):\n",
    "    node = permutation[-1] \n",
    "    best_q_value = 1000000\n",
    "    best_node = node\n",
    "    \n",
    "    for next_node in range(len(distance_matrix)):\n",
    "        if next_node in permutation: \n",
    "            continue            \n",
    "           \n",
    "\n",
    "    \n",
    "   \n",
    "    return best_node, distance_matrix[node,best_node]    "
   ]
  },
  {
   "cell_type": "markdown",
   "metadata": {
    "slideshow": {
     "slide_type": "slide"
    }
   },
   "source": [
    "## Two-Step Lookahead: Die Haupt-Funktion\n",
    "\n",
    "Beachte: Wenn nur noch ein Knoten übrig ist, macht Two-Step-Lookahead keinen Sinn mehr!"
   ]
  },
  {
   "cell_type": "code",
   "execution_count": 426,
   "metadata": {
    "slideshow": {
     "slide_type": "-"
    }
   },
   "outputs": [],
   "source": [
    "@njit\n",
    "def tsp_rollout_nn_two_step_lookahead(permutation, distance_matrix):\n",
    "    \n",
    "\n",
    "    total_distance = 0\n",
    "    \n",
    "    node = permutation[len(permutation)-1]\n",
    "    \n",
    "    #Beachte: Two-Step Lookahead bei nur noch einem Knoten ist nicht sinnvoll\n",
    "    while len(permutation) < len(distance_matrix)-1:    \n",
    "        \n",
    "        if len(permutation) < len(distance_matrix) -1:\n",
    "            node, distance = select_using_simplified_two_step_lookahead(permutation, distance_matrix, max_number_of_neighbors)\n",
    "        else:\n",
    "            node, distance = select_using_rollout_nn(permutation, distance_matrix)\n",
    "            \n",
    "                    \n",
    "        permutation.append(node)\n",
    "        total_distance += distance     \n",
    "    \n",
    "    \n",
    "    total_distance += distance_matrix[permutation[len(permutation)-1],permutation[0]]\n",
    "    return permutation, total_distance"
   ]
  },
  {
   "cell_type": "code",
   "execution_count": 393,
   "metadata": {
    "scrolled": true
   },
   "outputs": [
    {
     "name": "stderr",
     "output_type": "stream",
     "text": [
      "C:\\Users\\Michael\\AppData\\Local\\Temp\\ipykernel_10904\\2292363227.py:12: NumbaPendingDeprecationWarning: \u001b[1m\u001b[1m\n",
      "Encountered the use of a type that is scheduled for deprecation: type 'reflected list' found for argument 'permutation' of function 'select_using_two_step_lookahead'.\n",
      "\n",
      "For more information visit https://numba.pydata.org/numba-doc/latest/reference/deprecation.html#deprecation-of-reflection-for-list-and-set-types\n",
      "\u001b[1m\n",
      "File \"..\\..\\..\\..\\AppData\\Local\\Temp\\ipykernel_10904\\2838914185.py\", line 1:\u001b[0m\n",
      "\u001b[1m<source missing, REPL/exec in use?>\u001b[0m\n",
      "\u001b[0m\u001b[0m\n",
      "  node, distance = select_using_two_step_lookahead(permutation, distance_matrix)\n",
      "C:\\Users\\Michael\\miniconda3\\envs\\audproj\\lib\\site-packages\\numba\\core\\ir_utils.py:2152: NumbaPendingDeprecationWarning: \u001b[1m\n",
      "Encountered the use of a type that is scheduled for deprecation: type 'reflected list' found for argument 'permutation' of function 'tsp_rollout_nn_two_step_lookahead'.\n",
      "\n",
      "For more information visit https://numba.pydata.org/numba-doc/latest/reference/deprecation.html#deprecation-of-reflection-for-list-and-set-types\n",
      "\u001b[1m\n",
      "File \"..\\..\\..\\..\\AppData\\Local\\Temp\\ipykernel_10904\\2292363227.py\", line 1:\u001b[0m\n",
      "\u001b[1m<source missing, REPL/exec in use?>\u001b[0m\n",
      "\u001b[0m\n",
      "  warnings.warn(NumbaPendingDeprecationWarning(msg, loc=loc))\n"
     ]
    },
    {
     "name": "stdout",
     "output_type": "stream",
     "text": [
      "Solution feasible, distance is:  7902\n"
     ]
    }
   ],
   "source": [
    "permutation, distance = tsp_rollout_nn_two_step_lookahead([0], distance_matrix)\n",
    "print_obj_and_eval_tsp_solution(distance_matrix, permutation, distance)\n"
   ]
  },
  {
   "cell_type": "markdown",
   "metadata": {
    "slideshow": {
     "slide_type": "slide"
    }
   },
   "source": [
    "## Die \"Simplified-Variante\""
   ]
  },
  {
   "cell_type": "code",
   "execution_count": 398,
   "metadata": {
    "slideshow": {
     "slide_type": "-"
    }
   },
   "outputs": [],
   "source": [
    "@njit\n",
    "def select_using_simplified_two_step_lookahead(permutation, distance_matrix, max_number_of_neighbors):\n",
    "    node = permutation[-1] \n",
    "    best_q_value = 1000000\n",
    "    best_node = node\n",
    "    \n",
    "    sorted_neighbors = np.argsort(distance_matrix[node])\n",
    "    \n",
    "    number_of_neighbors_rollout = 0\n",
    "    for next_node in sorted_neighbors:\n",
    "        if next_node in permutation: \n",
    "            continue            \n",
    "       \n",
    "        \n",
    "        number_of_neighbors_rollout += 1\n",
    "        # zähler wenn \n",
    "        if number_of_neighbors_rollout > max_number_of_neighbors:\n",
    "            break            \n",
    "            # _, heißt, dass wir den ersten Rückgabewert ignorieren\n",
    "\n",
    "\n",
    "        _, value = tsp_rollout_nn(permutation + [next_node], distance_matrix)\n",
    "\n",
    "\n",
    "        q_value = distance_matrix[node,next_node] + value\n",
    "\n",
    "        if q_value < best_q_value:\n",
    "            best_node = next_node\n",
    "            best_q_value = q_value\n",
    "    \n",
    "   \n",
    "    return best_node, distance_matrix[node,best_node]\n",
    "\n",
    "    "
   ]
  },
  {
   "cell_type": "markdown",
   "metadata": {
    "slideshow": {
     "slide_type": "slide"
    }
   },
   "source": [
    "## Die \"Simplified-Variante\""
   ]
  },
  {
   "cell_type": "code",
   "execution_count": 434,
   "metadata": {
    "slideshow": {
     "slide_type": "-"
    }
   },
   "outputs": [],
   "source": [
    "@njit\n",
    "def tsp_rollout_nn_simplified_two_step_lookahead(permutation, distance_matrix, max_number_of_neighbors):\n",
    "    \n",
    "\n",
    "    total_distance = 0\n",
    "    \n",
    "    node = permutation[len(permutation)-1]\n",
    "    \n",
    " \n",
    "    while len(permutation) < len(distance_matrix):   \n",
    "        \n",
    "        #Beachte: Two-Step Lookahead bei nur noch einem Knoten ist nicht sinnvoll\n",
    "        if len(permutation) < len(distance_matrix) -1:\n",
    "            node, distance = select_using_simplified_two_step_lookahead(permutation, distance_matrix, max_number_of_neighbors)\n",
    "        else:\n",
    "            node, distance = select_using_simplified_rollout_nn(permutation, distance_matrix, max_number_of_neighbors)\n",
    "            \n",
    "        permutation.append(node)\n",
    "        total_distance += distance     \n",
    "    \n",
    "\n",
    "    \n",
    "    total_distance += distance_matrix[permutation[len(permutation)-1],permutation[0]]\n",
    "    return permutation, total_distance"
   ]
  },
  {
   "cell_type": "code",
   "execution_count": 402,
   "metadata": {
    "scrolled": true,
    "slideshow": {
     "slide_type": "fragment"
    }
   },
   "outputs": [
    {
     "name": "stdout",
     "output_type": "stream",
     "text": [
      "Solution feasible, distance is:  7897\n"
     ]
    }
   ],
   "source": [
    "max_number_of_neighbors = 5\n",
    "permutation, distance = tsp_rollout_nn_simplified_two_step_lookahead([0], distance_matrix, 5)\n",
    "print_obj_and_eval_tsp_solution(distance_matrix, permutation, distance)\n"
   ]
  },
  {
   "cell_type": "markdown",
   "metadata": {
    "slideshow": {
     "slide_type": "slide"
    }
   },
   "source": [
    "## Von Two-Step zu Multi-Step-Lookahead\n",
    "\n",
    "**Kernidee:**\n",
    "- wir parametrisieren die Anzahl der Lookahead-Schritte\n",
    "- und rufen den lookahead-Algorithmus rekursiv mit jeweils um 1 reduzierter Anzahl an Lookahead-Schritten auf!\n",
    "\n",
    "- hier direkt die Simplified-Variante"
   ]
  },
  {
   "cell_type": "code",
   "execution_count": 413,
   "metadata": {
    "slideshow": {
     "slide_type": "-"
    }
   },
   "outputs": [],
   "source": [
    "@njit\n",
    "def select_using_simplified_multi_step_lookahead(permutation, distance_matrix, max_number_of_neighbors, number_of_lookahead_steps):\n",
    "    node = permutation[-1] \n",
    "    best_q_value = 1000000\n",
    "    best_node = node\n",
    "    \n",
    "    number_of_lookahead_steps = min(number_of_lookahead_steps, len(distance_matrix) - len(permutation))\n",
    "    \n",
    "    sorted_neighbors = np.argsort(distance_matrix[node])\n",
    "    \n",
    "    number_of_neighbors_rollout = 0\n",
    "    \n",
    "    for next_node in sorted_neighbors:\n",
    "        if next_node in permutation: \n",
    "            continue            \n",
    "       \n",
    "        \n",
    "        number_of_neighbors_rollout += 1\n",
    "        # zähler wenn \n",
    "        if number_of_neighbors_rollout > max_number_of_neighbors:\n",
    "            break                     \n",
    "            \n",
    "\n",
    "        if number_of_lookahead_steps > 1:\n",
    "            _, value = tsp_rollout_nn_simplified_multi_step_lookahead(permutation + [next_node],\n",
    "                                                                      distance_matrix, \n",
    "                                                                      max_number_of_neighbors,\n",
    "                                                                      number_of_lookahead_steps - 1)\n",
    "        else:\n",
    "            _, value = tsp_rollout_nn(permutation + [next_node], distance_matrix)\n",
    "\n",
    "        q_value = distance_matrix[node,next_node] + value\n",
    "\n",
    "        if q_value < best_q_value:\n",
    "            best_node = next_node\n",
    "            best_q_value = q_value\n",
    "    \n",
    "   \n",
    "    return best_node, distance_matrix[node,best_node]\n",
    "\n",
    "    "
   ]
  },
  {
   "cell_type": "code",
   "execution_count": null,
   "metadata": {},
   "outputs": [],
   "source": []
  },
  {
   "cell_type": "code",
   "execution_count": 422,
   "metadata": {},
   "outputs": [],
   "source": [
    "@njit\n",
    "def tsp_rollout_nn_simplified_multi_step_lookahead(permutation, distance_matrix, max_number_of_neighbors, number_of_lookahead_steps):\n",
    "    \n",
    "\n",
    "    total_distance = 0\n",
    "    \n",
    "    node = permutation[len(permutation)-1]    \n",
    "\n",
    "    while len(permutation) < len(distance_matrix):    \n",
    "        \n",
    "        node, distance = select_using_simplified_multi_step_lookahead(permutation,\n",
    "                                                                      distance_matrix,\n",
    "                                                                      max_number_of_neighbors,\n",
    "                                                                      number_of_lookahead_steps)\n",
    "        permutation.append(node)\n",
    "        total_distance += distance     \n",
    "     \n",
    "    \n",
    "    total_distance += distance_matrix[permutation[len(permutation)-1],permutation[0]]\n",
    "    return permutation, total_distance"
   ]
  },
  {
   "cell_type": "code",
   "execution_count": 425,
   "metadata": {},
   "outputs": [
    {
     "name": "stdout",
     "output_type": "stream",
     "text": [
      "Solution feasible, distance is:  7923\n"
     ]
    }
   ],
   "source": [
    "max_number_of_neighbors = 3\n",
    "number_of_lookahead_steps = 2\n",
    "permutation, distance = tsp_rollout_nn_simplified_multi_step_lookahead([2], \n",
    "                                                                       distance_matrix,\n",
    "                                                                       max_number_of_neighbors,\n",
    "                                                                       number_of_lookahead_steps)\n",
    "print_obj_and_eval_tsp_solution(distance_matrix, permutation, distance)"
   ]
  }
 ],
 "metadata": {
  "celltoolbar": "Slideshow",
  "kernelspec": {
   "display_name": "Python [conda env:audproj]",
   "language": "python",
   "name": "conda-env-audproj-py"
  },
  "language_info": {
   "codemirror_mode": {
    "name": "ipython",
    "version": 3
   },
   "file_extension": ".py",
   "mimetype": "text/x-python",
   "name": "python",
   "nbconvert_exporter": "python",
   "pygments_lexer": "ipython3",
   "version": "3.10.2"
  },
  "toc": {
   "base_numbering": 1,
   "nav_menu": {},
   "number_sections": false,
   "sideBar": true,
   "skip_h1_title": false,
   "title_cell": "Table of Contents",
   "title_sidebar": "Contents",
   "toc_cell": false,
   "toc_position": {},
   "toc_section_display": true,
   "toc_window_display": false
  },
  "varInspector": {
   "cols": {
    "lenName": 16,
    "lenType": 16,
    "lenVar": 40
   },
   "kernels_config": {
    "python": {
     "delete_cmd_postfix": "",
     "delete_cmd_prefix": "del ",
     "library": "var_list.py",
     "varRefreshCmd": "print(var_dic_list())"
    },
    "r": {
     "delete_cmd_postfix": ") ",
     "delete_cmd_prefix": "rm(",
     "library": "var_list.r",
     "varRefreshCmd": "cat(var_dic_list()) "
    }
   },
   "types_to_exclude": [
    "module",
    "function",
    "builtin_function_or_method",
    "instance",
    "_Feature"
   ],
   "window_display": false
  }
 },
 "nbformat": 4,
 "nbformat_minor": 4
}
