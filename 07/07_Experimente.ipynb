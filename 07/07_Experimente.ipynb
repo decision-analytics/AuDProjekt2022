{
 "cells": [
  {
   "cell_type": "markdown",
   "metadata": {
    "slideshow": {
     "slide_type": "slide"
    }
   },
   "source": [
    "\n",
    "<img src=\"img/logo_wiwi.png\" width=\"25%\" align=\"left\">\n",
    "\n",
    "<img src=\"img/decision_analytics_logo.png\" width=\"17%\" align=\"right\">\n",
    "\n",
    "\n",
    "\n",
    "<br><br><br><br><br><br><br><br>\n",
    "\n",
    "\n",
    "\n",
    "# Algorithmen und Datenstrukturen(A+D)-Projekt \n",
    "\n",
    "**Sommersemester 2022**\n",
    "\n",
    "\n",
    "# 7. Experimente\n",
    "\n",
    "<br>\n",
    "\n",
    "<br>\n",
    "<br>\n",
    "\n",
    "**J-Prof. Dr. Michael Römer, Till Porrmann, Jakob Schulte, Henning Witteborg**\n",
    "\n",
    "Juniorprofessur für Decision Analytics  | Universität Bielefeld"
   ]
  },
  {
   "cell_type": "code",
   "execution_count": 30,
   "metadata": {
    "slideshow": {
     "slide_type": "skip"
    }
   },
   "outputs": [],
   "source": [
    "import matplotlib.pyplot as plt\n",
    "import numpy as np\n",
    "import pandas as pd\n",
    "from numba import njit"
   ]
  },
  {
   "cell_type": "markdown",
   "metadata": {
    "slideshow": {
     "slide_type": "slide"
    }
   },
   "source": [
    "## Was machen wir heute?\n",
    "\n",
    "**Wir betrachten ein paar hilfreiche Techniken für das Durchführen und Auswerten von Experimenten mit Algorithmen**\n",
    "\n",
    "- Aufrufen mehrerer Instanzen und Algorithmen\n",
    "- Datenstrukturen für Ergebnisse\n",
    "- Aufbereiten der Ergebnisse mit data frames\n",
    "- Speichern von Ergebnissen in Dateien\n",
    "- Auslesen von Ergebnissen aus Dateien\n",
    "\n",
    "\n",
    "\n",
    "\n",
    "\n",
    "\n"
   ]
  },
  {
   "cell_type": "markdown",
   "metadata": {
    "slideshow": {
     "slide_type": "slide"
    }
   },
   "source": [
    "# Rückblick: Algorithmen für das TSP"
   ]
  },
  {
   "cell_type": "markdown",
   "metadata": {
    "slideshow": {
     "slide_type": "slide"
    }
   },
   "source": [
    "## Das TSP als Beispiel\n",
    "\n",
    "Für das TSP haben wir \n",
    "- für viele Instanzen optimale Zielfunktionswerte: http://comopt.ifi.uni-heidelberg.de/software/TSPLIB95/STSP.html\n",
    "- das Python-Paket `python-tsp`, mit dem wir unsere Algorithmen vergleichen können (https://github.com/fillipe-gsm/python-tsp)\n",
    "- einige Algorithmen implementiert\n",
    "  - Nearest Neighbor\n",
    "  - Multistart Nearest Neighbor\n",
    "  - Rollout mit Nearest Neighbor\n",
    "  - Simplified Rollout\n",
    "  - Multistep-Lookahead mit (Simplified) Rollout"
   ]
  },
  {
   "cell_type": "markdown",
   "metadata": {
    "slideshow": {
     "slide_type": "slide"
    }
   },
   "source": [
    "**Wie können wir**\n",
    "- sinnvoll mit mehreren (z.B. > 10) Instanzen experimentieren?\n",
    "- die Ergebnisse in Dateien speichern und aufbereiten?"
   ]
  },
  {
   "cell_type": "code",
   "execution_count": 2,
   "metadata": {
    "slideshow": {
     "slide_type": "-"
    }
   },
   "outputs": [],
   "source": [
    "from python_tsp.distances import tsplib_distance_matrix\n",
    "\n",
    "#tsplib_file = \"./../problems/tsp/instances/gr48.tsp\" # optimale Lösung 5046 (lt. http://comopt.ifi.uni-heidelberg.de/software/TSPLIB95/STSP.html)\n",
    "#tsplib_file = \"./../problems/tsp/instances/brazil58.tsp\" # optimale Lösung 25395 (lt. http://comopt.ifi.uni-heidelberg.de/software/TSPLIB95/STSP.html)\n",
    "tsplib_file = \"./../problems/tsp/instances/berlin52.tsp\" # optimale Lösung 7542 (lt. http://comopt.ifi.uni-heidelberg.de/software/TSPLIB95/STSP.html)\n",
    "\n",
    "distance_matrix = tsplib_distance_matrix(tsplib_file)"
   ]
  },
  {
   "cell_type": "code",
   "execution_count": 3,
   "metadata": {},
   "outputs": [
    {
     "data": {
      "text/plain": [
       "7542"
      ]
     },
     "execution_count": 3,
     "metadata": {},
     "output_type": "execute_result"
    }
   ],
   "source": [
    "from python_tsp.heuristics import solve_tsp_simulated_annealing\n",
    "\n",
    "permutation, distance_simulated_annealing = solve_tsp_simulated_annealing(distance_matrix)\n",
    "distance_simulated_annealing"
   ]
  },
  {
   "cell_type": "markdown",
   "metadata": {
    "slideshow": {
     "slide_type": "slide"
    }
   },
   "source": [
    "## Hilfsfunktion: `select_nearest_neighbor`\n",
    "\n",
    "- wir ändern / vereinfachen unsere bisherige Implementierung der Hilfsfunktion\n",
    "- wir brauchen eigentlich neben der Distanzmatrix nur die Permutationsliste\n",
    "  - das letzte Element ist der Knoten, von dem aus gesucht wird\n",
    "- wir nutzen wieder `njit` von numba (könnte man auch weglassen, wäre dann aber langsamer)"
   ]
  },
  {
   "cell_type": "code",
   "execution_count": 4,
   "metadata": {
    "slideshow": {
     "slide_type": "-"
    }
   },
   "outputs": [],
   "source": [
    "@njit\n",
    "def select_nearest_neighbor(permutation, distance_matrix ):\n",
    "    \n",
    "    # node ist der letzte Knoten der Permutation\n",
    "    # wir könnten auch permutation[-1] schreiben, aber das funktioniert mit Numba nicht\n",
    "    node = permutation[len(permutation)-1]\n",
    "    \n",
    "    smallest_distance = 9999999999 ## grosser Wert\n",
    "    nearest_neighbor = 0\n",
    "    \n",
    "    #Anzahl an Knoten = Dimension der Distanzmatrix\n",
    "    for neighbor in range(len(distance_matrix)):\n",
    "        \n",
    "        if neighbor in permutation:\n",
    "            continue\n",
    "            \n",
    "        if distance_matrix[node][neighbor] < smallest_distance:\n",
    "            nearest_neighbor = neighbor\n",
    "            smallest_distance = distance_matrix[node][neighbor]            \n",
    "       \n",
    "    return nearest_neighbor, smallest_distance "
   ]
  },
  {
   "cell_type": "markdown",
   "metadata": {
    "slideshow": {
     "slide_type": "slide"
    }
   },
   "source": [
    "## Implementierung des Nearest-Neighbor-Algorithmus\n",
    "- wir nutzen nun die neue Funktion in der Implementierung des Nearest Neighbor-Algorithmus\n",
    "- auch hier haben wir die Implementierung etwas vereinfacht:\n",
    "  - wir übergeben nur eine Permutation und die Distanzmatrix\n",
    "\n",
    "- beim alleinigen Aufruf des Algorithmus übergeben wir eine Liste mit einem Startknoten\n",
    "- bei Verwendung im Rollout-Algorithmus übergeben wir die bisherige Permutation\n"
   ]
  },
  {
   "cell_type": "code",
   "execution_count": 5,
   "metadata": {
    "slideshow": {
     "slide_type": "fragment"
    }
   },
   "outputs": [],
   "source": [
    "@njit\n",
    "def tsp_nearest_neighbor(permutation, distance_matrix ):\n",
    "    \n",
    "    total_distance = 0\n",
    "    \n",
    "    #solange die sequenz noch nicht alle Knoten umfasst\n",
    "    while len(permutation) < len(distance_matrix):\n",
    "        \n",
    "        node, distance = select_nearest_neighbor(permutation, distance_matrix )\n",
    "        \n",
    "        permutation.append(node)\n",
    "        total_distance += distance\n",
    "        \n",
    "    total_distance += distance_matrix[permutation[len(permutation)-1], permutation[0]]\n",
    "    return permutation, total_distance\n"
   ]
  },
  {
   "cell_type": "markdown",
   "metadata": {
    "slideshow": {
     "slide_type": "slide"
    }
   },
   "source": [
    "..probieren wir es aus:"
   ]
  },
  {
   "cell_type": "code",
   "execution_count": 6,
   "metadata": {
    "slideshow": {
     "slide_type": "-"
    }
   },
   "outputs": [
    {
     "name": "stderr",
     "output_type": "stream",
     "text": [
      "C:\\Users\\Michael\\AppData\\Local\\Temp\\ipykernel_21072\\4184130370.py:9: NumbaPendingDeprecationWarning: \u001b[1m\u001b[1m\n",
      "Encountered the use of a type that is scheduled for deprecation: type 'reflected list' found for argument 'lst' of function 'in_seq.<locals>.seq_contains_impl'.\n",
      "\n",
      "For more information visit https://numba.pydata.org/numba-doc/latest/reference/deprecation.html#deprecation-of-reflection-for-list-and-set-types\n",
      "\u001b[1m\n",
      "File \"..\\..\\..\\..\\miniconda3\\envs\\audproj\\lib\\site-packages\\numba\\cpython\\listobj.py\", line 662:\u001b[0m\n",
      "\u001b[1mdef in_seq(context, builder, sig, args):\n",
      "\u001b[1m    def seq_contains_impl(lst, value):\n",
      "\u001b[0m    \u001b[1m^\u001b[0m\u001b[0m\n",
      "\u001b[0m\u001b[0m\n",
      "  node, distance = select_nearest_neighbor(permutation, distance_matrix )\n",
      "C:\\Users\\Michael\\AppData\\Local\\Temp\\ipykernel_21072\\4184130370.py:9: NumbaPendingDeprecationWarning: \u001b[1m\u001b[1m\n",
      "Encountered the use of a type that is scheduled for deprecation: type 'reflected list' found for argument 'permutation' of function 'select_nearest_neighbor'.\n",
      "\n",
      "For more information visit https://numba.pydata.org/numba-doc/latest/reference/deprecation.html#deprecation-of-reflection-for-list-and-set-types\n",
      "\u001b[1m\n",
      "File \"..\\..\\..\\..\\AppData\\Local\\Temp\\ipykernel_21072\\2764893609.py\", line 1:\u001b[0m\n",
      "\u001b[1m<source missing, REPL/exec in use?>\u001b[0m\n",
      "\u001b[0m\u001b[0m\n",
      "  node, distance = select_nearest_neighbor(permutation, distance_matrix )\n",
      "C:\\Users\\Michael\\miniconda3\\envs\\audproj\\lib\\site-packages\\numba\\core\\ir_utils.py:2152: NumbaPendingDeprecationWarning: \u001b[1m\n",
      "Encountered the use of a type that is scheduled for deprecation: type 'reflected list' found for argument 'permutation' of function 'tsp_nearest_neighbor'.\n",
      "\n",
      "For more information visit https://numba.pydata.org/numba-doc/latest/reference/deprecation.html#deprecation-of-reflection-for-list-and-set-types\n",
      "\u001b[1m\n",
      "File \"..\\..\\..\\..\\AppData\\Local\\Temp\\ipykernel_21072\\4184130370.py\", line 1:\u001b[0m\n",
      "\u001b[1m<source missing, REPL/exec in use?>\u001b[0m\n",
      "\u001b[0m\n",
      "  warnings.warn(NumbaPendingDeprecationWarning(msg, loc=loc))\n"
     ]
    },
    {
     "name": "stdout",
     "output_type": "stream",
     "text": [
      "8980\n"
     ]
    }
   ],
   "source": [
    "permutation, distance_nearest_neighbor = tsp_nearest_neighbor([0], distance_matrix)\n",
    "print(distance_nearest_neighbor)\n"
   ]
  },
  {
   "cell_type": "markdown",
   "metadata": {
    "slideshow": {
     "slide_type": "slide"
    }
   },
   "source": [
    "## Eine Routine zum Evaluieren einer Lösung\n",
    "\n",
    "- immer wenn man nicht-triviale Algorithmen für Optimierungsprobleme entwickelt, sollte man einen \"Solution-Checker\" schreiben / nutzen"
   ]
  },
  {
   "cell_type": "markdown",
   "metadata": {
    "slideshow": {
     "slide_type": "slide"
    }
   },
   "source": [
    "**Im Fall des TSP gilt es:**\n",
    "- zu prüfen, ob\n",
    "  - die Lösung die Richtige Anzahl an Knoten enthält\n",
    "  - dass es sich bei der Lösung tatsächlich um eine Permutation der Indizes handelt (kein Index kommt zweimal vor)\n",
    "- die Distanz der Tour zu berechnen"
   ]
  },
  {
   "cell_type": "code",
   "execution_count": 7,
   "metadata": {
    "slideshow": {
     "slide_type": "-"
    }
   },
   "outputs": [],
   "source": [
    "def evaluate_tsp_solution(distance_matrix, permutation):\n",
    "    n = len(distance_matrix)\n",
    "    if len(permutation) != n:\n",
    "        print (\"Wrong number of nodes\")\n",
    "        return -1\n",
    "     # Menge der Lösungsindizes muss = der Menge der Indizes von 0 bis n-1 sein\n",
    "    if set(permutation) != set(range(n)):\n",
    "        print (\"Not a proper permutation!\")\n",
    "        return  -1\n",
    "    \n",
    "    total_distance = 0\n",
    "    for i in range(n):\n",
    "        if i < n-1:\n",
    "            total_distance += distance_matrix[permutation[i],permutation[i+1]]\n",
    "        else:\n",
    "            total_distance += distance_matrix[permutation[i],permutation[0]]   \n",
    "            \n",
    "    return total_distance    "
   ]
  },
  {
   "cell_type": "markdown",
   "metadata": {
    "slideshow": {
     "slide_type": "slide"
    }
   },
   "source": [
    "## Erweiterung: Evaluation zum Überprüfen einer gegebenen Distanz\n",
    "\n",
    "- oftmals ist es nützlich, in einer Funktion direkt die vom Algorithmus berechnete Distanz zu prüfen\n",
    "- folgende Funktion macht eine entsprechende Ergebnisausgabe:\n"
   ]
  },
  {
   "cell_type": "code",
   "execution_count": 8,
   "metadata": {
    "slideshow": {
     "slide_type": "slide"
    }
   },
   "outputs": [],
   "source": [
    "def print_obj_and_eval_tsp_solution(distance_matrix, permutation, distance):\n",
    "    \n",
    "    eval_distance = evaluate_tsp_solution(distance_matrix, permutation)\n",
    "    \n",
    "    if distance == eval_distance:\n",
    "        print (\"Solution feasible, distance is: \", distance)\n",
    "    elif eval_distance < 0:\n",
    "        print(\"Solution infeasible\")\n",
    "    else: \n",
    "        print(\"Solution feasible, wrong distance: \", distance, \" evaluation gave \", eval_distance)"
   ]
  },
  {
   "cell_type": "code",
   "execution_count": 9,
   "metadata": {
    "slideshow": {
     "slide_type": "-"
    }
   },
   "outputs": [
    {
     "name": "stdout",
     "output_type": "stream",
     "text": [
      "Solution feasible, distance is:  8980\n"
     ]
    }
   ],
   "source": [
    "permutation_nearest_neighbor, distance_nearest_neighbor = tsp_nearest_neighbor([0], distance_matrix)\n",
    "print_obj_and_eval_tsp_solution(distance_matrix, permutation_nearest_neighbor, distance_nearest_neighbor )"
   ]
  },
  {
   "cell_type": "markdown",
   "metadata": {
    "slideshow": {
     "slide_type": "slide"
    }
   },
   "source": [
    "## Multistart-Nearest Neighbor\n",
    "\n",
    "- wir hatten gesehen, dass es sich lohnen kann, an allen möglichen Knoten zu starten:"
   ]
  },
  {
   "cell_type": "code",
   "execution_count": 10,
   "metadata": {
    "slideshow": {
     "slide_type": "-"
    }
   },
   "outputs": [],
   "source": [
    "def tsp_multistart_nearest_neighbor(distance_matrix):\n",
    "    best_permutation = []\n",
    "    best_distance = 999999\n",
    "    \n",
    "    for i in range(len(distance_matrix)):\n",
    "        permutation, distance = tsp_nearest_neighbor([i], distance_matrix)\n",
    "        \n",
    "        if distance < best_distance:\n",
    "            best_permutation = permutation\n",
    "            best_distance = distance\n",
    "    \n",
    "    return best_permutation, best_distance\n",
    "    "
   ]
  },
  {
   "cell_type": "code",
   "execution_count": 11,
   "metadata": {},
   "outputs": [
    {
     "name": "stdout",
     "output_type": "stream",
     "text": [
      "Solution feasible, distance is:  8181\n"
     ]
    }
   ],
   "source": [
    "permutation_multistart_nearest_neighbor, distance_multistart_nearest_neighbor = tsp_multistart_nearest_neighbor( distance_matrix)\n",
    "print_obj_and_eval_tsp_solution(distance_matrix, permutation_multistart_nearest_neighbor, distance_multistart_nearest_neighbor)"
   ]
  },
  {
   "cell_type": "markdown",
   "metadata": {
    "slideshow": {
     "slide_type": "slide"
    }
   },
   "source": [
    "## Nearest Neighbor vs Rollout\n",
    "- beim Nearest Neighbor wählen wir als nächsten Knoten den mit der kürzesten Distanz zum letzten Knoten in der partiellen Tour:\n",
    "\n",
    "<img src=\"./img/single_trajectory.png\" width=\"50%\">\n",
    "\n",
    "- beim Rollout wählen wir den mit dem kleinsten Q-Faktor, bestehend aus der Summe von\n",
    "  - Distanz zum letzen Knoten\n",
    "  - Länge der Rest-Tour vom letzten Knoten aus\n",
    "\n",
    "<img src=\"./img/rollout_general.png\" width=\"50%\">"
   ]
  },
  {
   "cell_type": "markdown",
   "metadata": {
    "slideshow": {
     "slide_type": "slide"
    }
   },
   "source": [
    "## Rollout\n"
   ]
  },
  {
   "cell_type": "code",
   "execution_count": 12,
   "metadata": {
    "slideshow": {
     "slide_type": "slide"
    }
   },
   "outputs": [],
   "source": [
    "@njit\n",
    "def select_using_rollout_nn(permutation, distance_matrix):\n",
    "    \n",
    "    node = permutation[len(permutation)-1] \n",
    "    best_q_value = 1000000\n",
    "    best_node = node        \n",
    "        \n",
    "    for next_node in range(len(distance_matrix)):\n",
    "        if next_node in permutation: \n",
    "            continue            \n",
    "        # _, heißt, dass wir den ersten Rückgabewert ignorieren\n",
    "        \n",
    "        # Berechne die NN-Länge der Rest-Tour von next_node aus\n",
    "        _, nn_value = tsp_nearest_neighbor(permutation + [next_node], distance_matrix)\n",
    "        \n",
    "        q_value = distance_matrix[node,next_node] + nn_value\n",
    "\n",
    "        if q_value < best_q_value:\n",
    "            best_node = next_node\n",
    "            best_q_value = q_value\n",
    "\n",
    "    \n",
    "   \n",
    "    return best_node, distance_matrix[node,best_node]\n"
   ]
  },
  {
   "cell_type": "markdown",
   "metadata": {
    "slideshow": {
     "slide_type": "slide"
    }
   },
   "source": [
    "## Die Hauptfunktion:"
   ]
  },
  {
   "cell_type": "code",
   "execution_count": 13,
   "metadata": {
    "slideshow": {
     "slide_type": "-"
    }
   },
   "outputs": [],
   "source": [
    "@njit\n",
    "def tsp_rollout_nn(permutation, distance_matrix):\n",
    "        \n",
    "    total_distance = 0\n",
    "    \n",
    "    #solange die sequenz noch nicht alle Knoten umfasst\n",
    "    while len(permutation) < len(distance_matrix):    \n",
    "        \n",
    "        next_node, distance = select_using_rollout_nn(permutation, distance_matrix)\n",
    "        permutation.append(next_node)\n",
    "        total_distance += distance     \n",
    "        \n",
    "    total_distance += distance_matrix[permutation[len(permutation)-1],permutation[0]]\n",
    "    return permutation, total_distance"
   ]
  },
  {
   "cell_type": "markdown",
   "metadata": {
    "slideshow": {
     "slide_type": "-"
    }
   },
   "source": [
    "..probieren wir es wieder aus:"
   ]
  },
  {
   "cell_type": "code",
   "execution_count": 14,
   "metadata": {
    "slideshow": {
     "slide_type": "-"
    }
   },
   "outputs": [
    {
     "name": "stderr",
     "output_type": "stream",
     "text": [
      "C:\\Users\\Michael\\AppData\\Local\\Temp\\ipykernel_21072\\1017998703.py:9: NumbaPendingDeprecationWarning: \u001b[1m\u001b[1m\n",
      "Encountered the use of a type that is scheduled for deprecation: type 'reflected list' found for argument 'permutation' of function 'select_using_rollout_nn'.\n",
      "\n",
      "For more information visit https://numba.pydata.org/numba-doc/latest/reference/deprecation.html#deprecation-of-reflection-for-list-and-set-types\n",
      "\u001b[1m\n",
      "File \"..\\..\\..\\..\\AppData\\Local\\Temp\\ipykernel_21072\\3105444862.py\", line 1:\u001b[0m\n",
      "\u001b[1m<source missing, REPL/exec in use?>\u001b[0m\n",
      "\u001b[0m\u001b[0m\n",
      "  next_node, distance = select_using_rollout_nn(permutation, distance_matrix)\n",
      "C:\\Users\\Michael\\miniconda3\\envs\\audproj\\lib\\site-packages\\numba\\core\\ir_utils.py:2152: NumbaPendingDeprecationWarning: \u001b[1m\n",
      "Encountered the use of a type that is scheduled for deprecation: type 'reflected list' found for argument 'permutation' of function 'tsp_rollout_nn'.\n",
      "\n",
      "For more information visit https://numba.pydata.org/numba-doc/latest/reference/deprecation.html#deprecation-of-reflection-for-list-and-set-types\n",
      "\u001b[1m\n",
      "File \"..\\..\\..\\..\\AppData\\Local\\Temp\\ipykernel_21072\\1017998703.py\", line 1:\u001b[0m\n",
      "\u001b[1m<source missing, REPL/exec in use?>\u001b[0m\n",
      "\u001b[0m\n",
      "  warnings.warn(NumbaPendingDeprecationWarning(msg, loc=loc))\n"
     ]
    },
    {
     "name": "stdout",
     "output_type": "stream",
     "text": [
      "Solution feasible, distance is:  8042\n"
     ]
    }
   ],
   "source": [
    "permutation_rollout_nn, distance_rollout_nn = tsp_rollout_nn([0], distance_matrix)\n",
    "print_obj_and_eval_tsp_solution(distance_matrix, permutation_rollout_nn, distance_rollout_nn)\n",
    "\n"
   ]
  },
  {
   "cell_type": "markdown",
   "metadata": {
    "slideshow": {
     "slide_type": "slide"
    }
   },
   "source": [
    "## Übung: Multistart Rollout\n",
    "\n",
    "\n",
    "><div class=\"alert alert-block alert-info\">\n",
    "<b>Implementieren Sie eine Multistart-Rollout-Funktion! </b></div>  "
   ]
  },
  {
   "cell_type": "code",
   "execution_count": 15,
   "metadata": {},
   "outputs": [],
   "source": [
    "def tsp_multistart_rollout_nn(distance_matrix):\n",
    "    best_permutation = []\n",
    "    best_distance = 999999\n",
    "    \n",
    "    for i in range(len(distance_matrix)):\n",
    "        permutation, distance = tsp_rollout_nn([i], distance_matrix)\n",
    "        \n",
    "        if distance < best_distance:\n",
    "            best_permutation = permutation\n",
    "            best_distance = distance\n",
    "    \n",
    "    return best_permutation, best_distance"
   ]
  },
  {
   "cell_type": "code",
   "execution_count": 16,
   "metadata": {
    "slideshow": {
     "slide_type": "-"
    }
   },
   "outputs": [
    {
     "name": "stdout",
     "output_type": "stream",
     "text": [
      "Solution feasible, distance is:  7819\n"
     ]
    }
   ],
   "source": [
    "permutation_multistart_rollout_nn, distance_multistart_rollout_nn = tsp_multistart_rollout_nn( distance_matrix)\n",
    "print_obj_and_eval_tsp_solution(distance_matrix, permutation_multistart_rollout_nn, distance_multistart_rollout_nn)\n",
    "\n"
   ]
  },
  {
   "cell_type": "markdown",
   "metadata": {
    "slideshow": {
     "slide_type": "slide"
    }
   },
   "source": [
    "## Simplified Rollout\n",
    "\n",
    "- wir wollen nun auch die Idee des Simplified Rollout übertragen in die neue Form der Implementierung\n",
    "\n",
    "><div class=\"alert alert-block alert-info\">\n",
    "<b>Wo müssen die größeren Änderungen durchgeführt werden - in der `select`-Hilfsfunktion oder in der Hauptfunktion?</b></div>  "
   ]
  },
  {
   "cell_type": "markdown",
   "metadata": {
    "slideshow": {
     "slide_type": "slide"
    }
   },
   "source": [
    "## Simplified Rollout: Die Select-Funktion"
   ]
  },
  {
   "cell_type": "code",
   "execution_count": 17,
   "metadata": {
    "slideshow": {
     "slide_type": "fragment"
    }
   },
   "outputs": [],
   "source": [
    "@njit\n",
    "def select_using_simplified_rollout_nn(permutation, distance_matrix,  max_number_of_neighbors_rollout):\n",
    "    \n",
    "    node = permutation[len(permutation)-1] \n",
    "                                    \n",
    "    best_q_value = 1000000\n",
    "    best_node = node\n",
    "   \n",
    "    sorted_neighbors = np.argsort(distance_matrix[node])\n",
    "    \n",
    "    number_of_neighbors_rollout = 0\n",
    "    for next_node in sorted_neighbors:\n",
    "        if next_node in permutation: \n",
    "            continue            \n",
    "       \n",
    "        \n",
    "        number_of_neighbors_rollout += 1\n",
    "        # zähler wenn \n",
    "        if number_of_neighbors_rollout > max_number_of_neighbors_rollout:\n",
    "            break     \n",
    "                                    \n",
    "                \n",
    "        _, nn_value = tsp_nearest_neighbor(permutation + [next_node], distance_matrix)\n",
    "        \n",
    "        q_value = distance_matrix[node,next_node] + nn_value\n",
    "\n",
    "        if q_value < best_q_value:\n",
    "            best_node = next_node\n",
    "            best_q_value = q_value\n",
    "\n",
    "    return best_node, distance_matrix[node,best_node]\n",
    "\n"
   ]
  },
  {
   "cell_type": "markdown",
   "metadata": {
    "slideshow": {
     "slide_type": "slide"
    }
   },
   "source": [
    "## Simplified Rollout: Die Hauptfunktion"
   ]
  },
  {
   "cell_type": "code",
   "execution_count": 18,
   "metadata": {
    "slideshow": {
     "slide_type": "-"
    }
   },
   "outputs": [],
   "source": [
    "@njit\n",
    "def tsp_simplified_rollout_nn(permutation, distance_matrix, max_number_of_neighbors_rollout):\n",
    "        \n",
    "    total_distance = 0\n",
    "    \n",
    "    #solange die sequenz noch nicht alle Knoten umfasst\n",
    "    while len(permutation) < len(distance_matrix):    \n",
    "        \n",
    "        next_node, distance = select_using_simplified_rollout_nn(permutation, distance_matrix, max_number_of_neighbors_rollout)\n",
    "        permutation.append(next_node)\n",
    "        total_distance += distance     \n",
    "        \n",
    "    total_distance += distance_matrix[permutation[len(permutation)-1],permutation[0]]\n",
    "    return permutation, total_distance"
   ]
  },
  {
   "cell_type": "markdown",
   "metadata": {
    "slideshow": {
     "slide_type": "fragment"
    }
   },
   "source": [
    "...probieren wir es aus:"
   ]
  },
  {
   "cell_type": "code",
   "execution_count": 19,
   "metadata": {
    "slideshow": {
     "slide_type": "-"
    }
   },
   "outputs": [
    {
     "name": "stderr",
     "output_type": "stream",
     "text": [
      "C:\\Users\\Michael\\AppData\\Local\\Temp\\ipykernel_21072\\3887431228.py:9: NumbaPendingDeprecationWarning: \u001b[1m\u001b[1m\n",
      "Encountered the use of a type that is scheduled for deprecation: type 'reflected list' found for argument 'permutation' of function 'select_using_simplified_rollout_nn'.\n",
      "\n",
      "For more information visit https://numba.pydata.org/numba-doc/latest/reference/deprecation.html#deprecation-of-reflection-for-list-and-set-types\n",
      "\u001b[1m\n",
      "File \"..\\..\\..\\..\\AppData\\Local\\Temp\\ipykernel_21072\\739218588.py\", line 1:\u001b[0m\n",
      "\u001b[1m<source missing, REPL/exec in use?>\u001b[0m\n",
      "\u001b[0m\u001b[0m\n",
      "  next_node, distance = select_using_simplified_rollout_nn(permutation, distance_matrix, max_number_of_neighbors_rollout)\n",
      "C:\\Users\\Michael\\miniconda3\\envs\\audproj\\lib\\site-packages\\numba\\core\\ir_utils.py:2152: NumbaPendingDeprecationWarning: \u001b[1m\n",
      "Encountered the use of a type that is scheduled for deprecation: type 'reflected list' found for argument 'permutation' of function 'tsp_simplified_rollout_nn'.\n",
      "\n",
      "For more information visit https://numba.pydata.org/numba-doc/latest/reference/deprecation.html#deprecation-of-reflection-for-list-and-set-types\n",
      "\u001b[1m\n",
      "File \"..\\..\\..\\..\\AppData\\Local\\Temp\\ipykernel_21072\\3887431228.py\", line 1:\u001b[0m\n",
      "\u001b[1m<source missing, REPL/exec in use?>\u001b[0m\n",
      "\u001b[0m\n",
      "  warnings.warn(NumbaPendingDeprecationWarning(msg, loc=loc))\n"
     ]
    },
    {
     "name": "stdout",
     "output_type": "stream",
     "text": [
      "Solution feasible, distance is:  8122\n"
     ]
    }
   ],
   "source": [
    "max_number_of_neighbors_rollout = 10\n",
    "permutation_simplified_rollout_nn, distance_simplified_rollout_nn = tsp_simplified_rollout_nn([0], distance_matrix, max_number_of_neighbors_rollout)\n",
    "print_obj_and_eval_tsp_solution(distance_matrix, permutation_simplified_rollout_nn, distance_simplified_rollout_nn)\n"
   ]
  },
  {
   "cell_type": "markdown",
   "metadata": {
    "slideshow": {
     "slide_type": "slide"
    }
   },
   "source": [
    "## Multi-Step-Lookahead\n",
    "\n",
    "**Kernidee:**\n",
    "- wir parametrisieren die Anzahl der Lookahead-Schritte\n",
    "- und rufen den lookahead-Algorithmus rekursiv mit jeweils um 1 reduzierter Anzahl an Lookahead-Schritten auf!\n",
    "\n",
    "- hier direkt die Simplified-Variante"
   ]
  },
  {
   "cell_type": "code",
   "execution_count": 20,
   "metadata": {
    "slideshow": {
     "slide_type": "-"
    }
   },
   "outputs": [],
   "source": [
    "@njit\n",
    "def select_using_simplified_multi_step_lookahead(permutation, distance_matrix, max_number_of_neighbors, number_of_lookahead_steps):\n",
    "    node = permutation[-1] \n",
    "    best_q_value = 1000000\n",
    "    best_node = node\n",
    "    \n",
    "    number_of_lookahead_steps = min(number_of_lookahead_steps, len(distance_matrix) - len(permutation))\n",
    "    \n",
    "    sorted_neighbors = np.argsort(distance_matrix[node])\n",
    "    \n",
    "    number_of_neighbors_rollout = 0\n",
    "    \n",
    "    for next_node in sorted_neighbors:\n",
    "        if next_node in permutation: \n",
    "            continue            \n",
    "       \n",
    "        \n",
    "        number_of_neighbors_rollout += 1\n",
    "        # zähler wenn \n",
    "        if number_of_neighbors_rollout > max_number_of_neighbors:\n",
    "            break                     \n",
    "            \n",
    "\n",
    "        if number_of_lookahead_steps > 1:\n",
    "            _, value = tsp_rollout_nn_simplified_multi_step_lookahead(permutation + [next_node],\n",
    "                                                                      distance_matrix, \n",
    "                                                                      max_number_of_neighbors,\n",
    "                                                                      number_of_lookahead_steps - 1)\n",
    "        else:\n",
    "            _, value = tsp_rollout_nn(permutation + [next_node], distance_matrix)\n",
    "\n",
    "        q_value = distance_matrix[node,next_node] + value\n",
    "\n",
    "        if q_value < best_q_value:\n",
    "            best_node = next_node\n",
    "            best_q_value = q_value\n",
    "    \n",
    "   \n",
    "    return best_node, distance_matrix[node,best_node]\n",
    "\n",
    "    "
   ]
  },
  {
   "cell_type": "code",
   "execution_count": 21,
   "metadata": {
    "slideshow": {
     "slide_type": "-"
    }
   },
   "outputs": [],
   "source": [
    "@njit\n",
    "def tsp_rollout_nn_simplified_multi_step_lookahead(permutation, distance_matrix, max_number_of_neighbors, number_of_lookahead_steps):\n",
    "    \n",
    "\n",
    "    total_distance = 0\n",
    "    \n",
    "    node = permutation[len(permutation)-1]    \n",
    "\n",
    "    while len(permutation) < len(distance_matrix):    \n",
    "        \n",
    "        node, distance = select_using_simplified_multi_step_lookahead(permutation,\n",
    "                                                                      distance_matrix,\n",
    "                                                                      max_number_of_neighbors,\n",
    "                                                                      number_of_lookahead_steps)\n",
    "        permutation.append(node)\n",
    "        total_distance += distance     \n",
    "     \n",
    "    \n",
    "    total_distance += distance_matrix[permutation[len(permutation)-1],permutation[0]]\n",
    "    return permutation, total_distance"
   ]
  },
  {
   "cell_type": "code",
   "execution_count": 22,
   "metadata": {
    "scrolled": true,
    "slideshow": {
     "slide_type": "-"
    }
   },
   "outputs": [
    {
     "name": "stderr",
     "output_type": "stream",
     "text": [
      "C:\\Users\\Michael\\AppData\\Local\\Temp\\ipykernel_21072\\4193355005.py:11: NumbaPendingDeprecationWarning: \u001b[1m\u001b[1m\n",
      "Encountered the use of a type that is scheduled for deprecation: type 'reflected list' found for argument 'permutation' of function 'select_using_simplified_multi_step_lookahead'.\n",
      "\n",
      "For more information visit https://numba.pydata.org/numba-doc/latest/reference/deprecation.html#deprecation-of-reflection-for-list-and-set-types\n",
      "\u001b[1m\n",
      "File \"..\\..\\..\\..\\AppData\\Local\\Temp\\ipykernel_21072\\749170160.py\", line 1:\u001b[0m\n",
      "\u001b[1m<source missing, REPL/exec in use?>\u001b[0m\n",
      "\u001b[0m\u001b[0m\n",
      "  node, distance = select_using_simplified_multi_step_lookahead(permutation,\n",
      "C:\\Users\\Michael\\miniconda3\\envs\\audproj\\lib\\site-packages\\numba\\core\\ir_utils.py:2152: NumbaPendingDeprecationWarning: \u001b[1m\n",
      "Encountered the use of a type that is scheduled for deprecation: type 'reflected list' found for argument 'permutation' of function 'tsp_rollout_nn_simplified_multi_step_lookahead'.\n",
      "\n",
      "For more information visit https://numba.pydata.org/numba-doc/latest/reference/deprecation.html#deprecation-of-reflection-for-list-and-set-types\n",
      "\u001b[1m\n",
      "File \"..\\..\\..\\..\\AppData\\Local\\Temp\\ipykernel_21072\\4193355005.py\", line 1:\u001b[0m\n",
      "\u001b[1m<source missing, REPL/exec in use?>\u001b[0m\n",
      "\u001b[0m\n",
      "  warnings.warn(NumbaPendingDeprecationWarning(msg, loc=loc))\n"
     ]
    },
    {
     "name": "stdout",
     "output_type": "stream",
     "text": [
      "Solution feasible, distance is:  7918\n"
     ]
    }
   ],
   "source": [
    "max_number_of_neighbors = 3\n",
    "number_of_lookahead_steps = 2\n",
    "permutation_simplified_multi_step_lookahead, distance_simplified_multi_step_lookahead = tsp_rollout_nn_simplified_multi_step_lookahead([2], \n",
    "                                                                       distance_matrix,\n",
    "                                                                       max_number_of_neighbors,\n",
    "                                                                       number_of_lookahead_steps)\n",
    "print_obj_and_eval_tsp_solution(distance_matrix, permutation_simplified_multi_step_lookahead, distance_simplified_multi_step_lookahead)"
   ]
  },
  {
   "cell_type": "markdown",
   "metadata": {},
   "source": [
    "# Experimente und deren Auswertung"
   ]
  },
  {
   "cell_type": "markdown",
   "metadata": {},
   "source": [
    "## Herausforderungen für die Auswertung\n",
    "\n",
    "**Wir wollen:**\n",
    "- nicht nur eine, sondern mehrere Instanzen testen\n",
    "  - ohne jedes Mal jede Zelle des Notebooks laufen zu lassen\n",
    "- die Ergebnisse in Dateien speichern\n",
    "  - Läufe können länger dauern und an verschiedenen Tagen passieren\n",
    "  - die Auswertung kann später gemacht wercen\n",
    "- damit umgehen, dass nicht nur verschiedene Algorithmen, sondern auch Varianten und paramtrisierte Algorithmen gibt\n",
    "  - z.B. Anzahl Steps beim Multistep Lookahead, Anzahl Nachbarn beim Simplified Rollout\n",
    "- sinnvolle Tabellen erstellen\n",
    "  - Ergebnisse und Laufzeiten\n",
    "  - Umgang mit unterschiedlichen Instanzgrößen\n"
   ]
  },
  {
   "cell_type": "markdown",
   "metadata": {
    "slideshow": {
     "slide_type": "slide"
    }
   },
   "source": [
    "## Mehrere Algorithmen laufen lassen\n",
    "\n",
    "- wir schreiben eine Funktion, die \n",
    "  - für eine Instanz mehrere Algorithmen aufruft\n",
    "  - und die Ergebnisse ausgibt\n",
    "  "
   ]
  },
  {
   "cell_type": "code",
   "execution_count": 23,
   "metadata": {
    "slideshow": {
     "slide_type": "-"
    }
   },
   "outputs": [],
   "source": [
    "from timeit import default_timer as timer\n",
    "\n",
    "def run_algorithms(instance_name):\n",
    "    \n",
    "    tsplib_file = \"./../problems/tsp/instances/\" + instance_name + \".tsp\" # optimale Lösung 7542 (lt. http://comopt.ifi.uni-heidelberg.de/software/TSPLIB95/STSP.html)\n",
    "    distance_matrix = tsplib_distance_matrix(tsplib_file)\n",
    "    print (\"Instanz\", instance_name)\n",
    "    print (\"Nodes\", len(distance_matrix))\n",
    "    \n",
    "    print(\"Nearest Neighbor:\")\n",
    "    starttime = timer()    \n",
    "    permutation_nn, distance_nn = tsp_nearest_neighbor([0], distance_matrix)\n",
    "    print_obj_and_eval_tsp_solution(distance_matrix, permutation_nn, distance_nn )\n",
    "    print(f\"Time: {timer()- starttime:0.3f}\")\n",
    "    \n",
    "    print(\"Multistart Nearest Neighbor:\")\n",
    "    starttime = timer()    \n",
    "    permutation_multistart_rollout_nn, distance_multistart_rollout_nn = tsp_multistart_rollout_nn( distance_matrix)\n",
    "    print_obj_and_eval_tsp_solution(distance_matrix, permutation_multistart_rollout_nn, distance_multistart_rollout_nn)\n",
    "    print(f\"Time: {timer()- starttime:0.3f}\")\n",
    "    \n",
    "    \n",
    "    "
   ]
  },
  {
   "cell_type": "code",
   "execution_count": 24,
   "metadata": {
    "slideshow": {
     "slide_type": "-"
    }
   },
   "outputs": [
    {
     "name": "stdout",
     "output_type": "stream",
     "text": [
      "Instanz berlin52\n",
      "Nodes 52\n",
      "Nearest Neighbor:\n",
      "Solution feasible, distance is:  8980\n",
      "Time: 0.000\n",
      "Multistart Nearest Neighbor:\n",
      "Solution feasible, distance is:  7819\n",
      "Time: 3.566\n"
     ]
    }
   ],
   "source": [
    "run_algorithms(\"berlin52\")"
   ]
  },
  {
   "cell_type": "markdown",
   "metadata": {
    "slideshow": {
     "slide_type": "slide"
    }
   },
   "source": [
    "## Eine Funktion zum Experimentieren mit mehreren Instanzen\n",
    "- wir möchten nicht  nur eine, sondern mehrere Instanzen testen"
   ]
  },
  {
   "cell_type": "code",
   "execution_count": 25,
   "metadata": {
    "slideshow": {
     "slide_type": "-"
    }
   },
   "outputs": [
    {
     "name": "stdout",
     "output_type": "stream",
     "text": [
      "Instanz berlin52\n",
      "Nodes 52\n",
      "Nearest Neighbor:\n",
      "Solution feasible, distance is:  8980\n",
      "Time: 0.000\n",
      "Multistart Nearest Neighbor:\n",
      "Solution feasible, distance is:  7819\n",
      "Time: 3.510\n",
      "Instanz gr48\n",
      "Nodes 48\n",
      "Nearest Neighbor:\n",
      "Solution feasible, distance is:  6098\n",
      "Time: 0.000\n",
      "Multistart Nearest Neighbor:\n",
      "Solution feasible, distance is:  5445\n",
      "Time: 2.184\n"
     ]
    }
   ],
   "source": [
    "def run_algorithms_on_instances(instance_names):\n",
    "\n",
    "    for instance_name in instance_names: \n",
    "        run_algorithms(instance_name)\n",
    "        \n",
    "\n",
    "run_algorithms_on_instances([\"berlin52\", \"gr48\"])  "
   ]
  },
  {
   "cell_type": "markdown",
   "metadata": {
    "slideshow": {
     "slide_type": "slide"
    }
   },
   "source": [
    "## Daten strukturiert erfassen\n",
    "\n",
    "- im obigen Code wurden die Daten relativ unstrukturiert ausgegeben\n",
    "\n",
    "**Neuer Ansatz:**\n",
    "- wir sammeln die Daten für jeden Lauf eines Algorithmus in einem `dict` mit den folgenden Daten\n",
    "  - Instance\n",
    "  - Algorithm\n",
    "  - Objective\n",
    "  - Time\n",
    "- fügen all diese Ergebnisse zusammen\n",
    "- und bilden daraus einen `dataframe`\n",
    "  \n",
    " "
   ]
  },
  {
   "cell_type": "code",
   "execution_count": 26,
   "metadata": {
    "slideshow": {
     "slide_type": "-"
    }
   },
   "outputs": [],
   "source": [
    "def run_algorithms(instance_name):\n",
    "    \n",
    "    \n",
    "    results=[]\n",
    "    tsplib_file = \"./../problems/tsp/instances/\" + instance_name +\".tsp\" # # optimale Lösung 7542 (lt. http://comopt.ifi.uni-heidelberg.de/software/TSPLIB95/STSP.html)\n",
    "    distance_matrix = tsplib_distance_matrix(tsplib_file)\n",
    "    \n",
    "    print (\"Instanz\", instance_name)\n",
    "    \n",
    "    result_dict = {}\n",
    "    result_dict[\"Instance\"] = instance_name\n",
    "    result_dict[\"Algorithm\"] = \"PyTSP\"\n",
    "    starttime = timer()    \n",
    "    \n",
    "    permutation, distance_simulated_annealing = solve_tsp_simulated_annealing(distance_matrix)\n",
    "    result_dict[\"Objective\"] = distance_simulated_annealing \n",
    "    result_dict[\"Time\"] = timer()- starttime\n",
    "    results.append(result_dict)\n",
    "    \n",
    "  \n",
    "    result_dict = {}\n",
    "    result_dict[\"Instance\"] = instance_name\n",
    "    result_dict[\"Algorithm\"] = \"NN\"\n",
    "    starttime = timer()    \n",
    "    permutation_nn, distance_nn = tsp_nearest_neighbor([0], distance_matrix)\n",
    "    result_dict[\"Objective\"] = distance_nn\n",
    "    result_dict[\"Time\"] = timer()- starttime\n",
    "    results.append(result_dict)\n",
    "    \n",
    "    result_dict = {}\n",
    "    result_dict[\"Instance\"] = instance_name\n",
    "    result_dict[\"Algorithm\"] = \"MS NN\"\n",
    "    starttime = timer()    \n",
    "    permutation_nn, distance_nn = tsp_multistart_nearest_neighbor( distance_matrix)\n",
    "    result_dict[\"Objective\"] = distance_nn\n",
    "    result_dict[\"Time\"] = timer()- starttime\n",
    "    results.append(result_dict)\n",
    "    \n",
    "    result_dict = {}\n",
    "    result_dict[\"Instance\"] = instance_name\n",
    "    result_dict[\"Algorithm\"] = \"MS Rollout\"\n",
    "    starttime = timer()    \n",
    "    permutation_multistart_rollout_nn, distance_multistart_rollout_nn = tsp_multistart_rollout_nn( distance_matrix)\n",
    "    result_dict[\"Objective\"] = distance_multistart_rollout_nn \n",
    "    result_dict[\"Time\"] = timer()- starttime\n",
    "    results.append(result_dict)\n",
    "    \n",
    "    \n",
    "    return results"
   ]
  },
  {
   "cell_type": "code",
   "execution_count": 27,
   "metadata": {
    "slideshow": {
     "slide_type": "-"
    }
   },
   "outputs": [
    {
     "name": "stdout",
     "output_type": "stream",
     "text": [
      "Instanz berlin52\n"
     ]
    }
   ],
   "source": [
    "results = run_algorithms(\"berlin52\")    \n",
    "    "
   ]
  },
  {
   "cell_type": "code",
   "execution_count": 28,
   "metadata": {
    "slideshow": {
     "slide_type": "-"
    }
   },
   "outputs": [
    {
     "name": "stdout",
     "output_type": "stream",
     "text": [
      "Instanz berlin52\n",
      "Instanz gr48\n"
     ]
    }
   ],
   "source": [
    "def run_algorithms_on_instances(instance_names):\n",
    "    results = []\n",
    "    for instance_name in instance_names: \n",
    "        results += run_algorithms(instance_name)\n",
    "        \n",
    "    return results\n",
    "\n",
    "results = run_algorithms_on_instances([\"berlin52\", \"gr48\"])    "
   ]
  },
  {
   "cell_type": "markdown",
   "metadata": {
    "slideshow": {
     "slide_type": "slide"
    }
   },
   "source": [
    "## Ergebnisse als `dataframe`\n",
    "- man kann eine Liste von `dict`s direkt in einen pandas dataframe überführen\n",
    "- diesen kann man schön als Tabelle darstellen und auch weiter manipulieren zur Auswertung"
   ]
  },
  {
   "cell_type": "code",
   "execution_count": 31,
   "metadata": {
    "scrolled": true,
    "slideshow": {
     "slide_type": "-"
    }
   },
   "outputs": [
    {
     "data": {
      "text/html": [
       "<div>\n",
       "<style scoped>\n",
       "    .dataframe tbody tr th:only-of-type {\n",
       "        vertical-align: middle;\n",
       "    }\n",
       "\n",
       "    .dataframe tbody tr th {\n",
       "        vertical-align: top;\n",
       "    }\n",
       "\n",
       "    .dataframe thead th {\n",
       "        text-align: right;\n",
       "    }\n",
       "</style>\n",
       "<table border=\"1\" class=\"dataframe\">\n",
       "  <thead>\n",
       "    <tr style=\"text-align: right;\">\n",
       "      <th></th>\n",
       "      <th>Instance</th>\n",
       "      <th>Algorithm</th>\n",
       "      <th>Objective</th>\n",
       "      <th>Time</th>\n",
       "    </tr>\n",
       "  </thead>\n",
       "  <tbody>\n",
       "    <tr>\n",
       "      <th>0</th>\n",
       "      <td>berlin52</td>\n",
       "      <td>PyTSP</td>\n",
       "      <td>7753</td>\n",
       "      <td>6.4602</td>\n",
       "    </tr>\n",
       "    <tr>\n",
       "      <th>1</th>\n",
       "      <td>berlin52</td>\n",
       "      <td>NN</td>\n",
       "      <td>8980</td>\n",
       "      <td>0.0002</td>\n",
       "    </tr>\n",
       "    <tr>\n",
       "      <th>2</th>\n",
       "      <td>berlin52</td>\n",
       "      <td>MS NN</td>\n",
       "      <td>8181</td>\n",
       "      <td>0.0105</td>\n",
       "    </tr>\n",
       "    <tr>\n",
       "      <th>3</th>\n",
       "      <td>berlin52</td>\n",
       "      <td>MS Rollout</td>\n",
       "      <td>7819</td>\n",
       "      <td>6.8795</td>\n",
       "    </tr>\n",
       "    <tr>\n",
       "      <th>4</th>\n",
       "      <td>gr48</td>\n",
       "      <td>PyTSP</td>\n",
       "      <td>5285</td>\n",
       "      <td>10.2384</td>\n",
       "    </tr>\n",
       "    <tr>\n",
       "      <th>5</th>\n",
       "      <td>gr48</td>\n",
       "      <td>NN</td>\n",
       "      <td>6098</td>\n",
       "      <td>0.0002</td>\n",
       "    </tr>\n",
       "    <tr>\n",
       "      <th>6</th>\n",
       "      <td>gr48</td>\n",
       "      <td>MS NN</td>\n",
       "      <td>5840</td>\n",
       "      <td>0.0112</td>\n",
       "    </tr>\n",
       "    <tr>\n",
       "      <th>7</th>\n",
       "      <td>gr48</td>\n",
       "      <td>MS Rollout</td>\n",
       "      <td>5445</td>\n",
       "      <td>4.2586</td>\n",
       "    </tr>\n",
       "  </tbody>\n",
       "</table>\n",
       "</div>"
      ],
      "text/plain": [
       "   Instance   Algorithm  Objective     Time\n",
       "0  berlin52       PyTSP       7753   6.4602\n",
       "1  berlin52          NN       8980   0.0002\n",
       "2  berlin52       MS NN       8181   0.0105\n",
       "3  berlin52  MS Rollout       7819   6.8795\n",
       "4      gr48       PyTSP       5285  10.2384\n",
       "5      gr48          NN       6098   0.0002\n",
       "6      gr48       MS NN       5840   0.0112\n",
       "7      gr48  MS Rollout       5445   4.2586"
      ]
     },
     "execution_count": 31,
     "metadata": {},
     "output_type": "execute_result"
    }
   ],
   "source": [
    "pd.set_option(\"display.precision\", 4)\n",
    "df = pd.DataFrame(results)\n",
    "df"
   ]
  },
  {
   "cell_type": "markdown",
   "metadata": {
    "slideshow": {
     "slide_type": "slide"
    }
   },
   "source": [
    "## Der Gap zur optimalen Lösung\n",
    "\n",
    "- wenn wir Instanzen mit unterschiedlich skalierten Zielfunktionswerten (Distanzen) haben\n",
    "- besser ist es daher oft, die relative Performance eines Algorithmus zu einer Bezugsgröße zu betrachten, z.B.:\n",
    "  - eine optimale Lösung\n",
    "  - die Lösung eines "
   ]
  },
  {
   "cell_type": "code",
   "execution_count": 32,
   "metadata": {
    "slideshow": {
     "slide_type": "-"
    }
   },
   "outputs": [],
   "source": [
    "\n",
    "instance_optimal_value = {\"gr48\":5046, \"brazil58\":25395, \"berlin52\":7542}\n",
    "\n",
    "def get_opt_gap(distance, instance_name):\n",
    "    return (distance - instance_optimal_value[instance_name]) / instance_optimal_value[instance_name]"
   ]
  },
  {
   "cell_type": "markdown",
   "metadata": {
    "slideshow": {
     "slide_type": "fragment"
    }
   },
   "source": [
    "\n",
    "><div class=\"alert alert-block alert-info\">\n",
    "<b>\n",
    "Ergänzen Sie die Funktion `run_algorithms` so, dass der Gap zur optimalen Lösung als Ergebniswert ausgegeben wird!\n",
    "</b></div>  \n",
    "\n",
    "    "
   ]
  },
  {
   "cell_type": "markdown",
   "metadata": {
    "slideshow": {
     "slide_type": "slide"
    }
   },
   "source": [
    "## Ergebnisse aufbereiten mit Pivot-Tabellen\n",
    "\n",
    "- die Ergebnistabelle von oben ist etwas redundant \n",
    "- was, wenn wir z.B. nur eine Zeile je Instanz haben wollen und für jeden Algorithmus eine Spalte?\n",
    "\n",
    "- derartige Umstellungen können wir mit so genannte Pivot-Tabellen machen:\n"
   ]
  },
  {
   "cell_type": "code",
   "execution_count": 33,
   "metadata": {
    "slideshow": {
     "slide_type": "-"
    }
   },
   "outputs": [
    {
     "data": {
      "text/html": [
       "<div>\n",
       "<style scoped>\n",
       "    .dataframe tbody tr th:only-of-type {\n",
       "        vertical-align: middle;\n",
       "    }\n",
       "\n",
       "    .dataframe tbody tr th {\n",
       "        vertical-align: top;\n",
       "    }\n",
       "\n",
       "    .dataframe thead tr th {\n",
       "        text-align: left;\n",
       "    }\n",
       "\n",
       "    .dataframe thead tr:last-of-type th {\n",
       "        text-align: right;\n",
       "    }\n",
       "</style>\n",
       "<table border=\"1\" class=\"dataframe\">\n",
       "  <thead>\n",
       "    <tr>\n",
       "      <th></th>\n",
       "      <th colspan=\"4\" halign=\"left\">Objective</th>\n",
       "    </tr>\n",
       "    <tr>\n",
       "      <th>Algorithm</th>\n",
       "      <th>PyTSP</th>\n",
       "      <th>NN</th>\n",
       "      <th>MS NN</th>\n",
       "      <th>MS Rollout</th>\n",
       "    </tr>\n",
       "    <tr>\n",
       "      <th>Instance</th>\n",
       "      <th></th>\n",
       "      <th></th>\n",
       "      <th></th>\n",
       "      <th></th>\n",
       "    </tr>\n",
       "  </thead>\n",
       "  <tbody>\n",
       "    <tr>\n",
       "      <th>berlin52</th>\n",
       "      <td>7753</td>\n",
       "      <td>8980</td>\n",
       "      <td>8181</td>\n",
       "      <td>7819</td>\n",
       "    </tr>\n",
       "    <tr>\n",
       "      <th>gr48</th>\n",
       "      <td>5285</td>\n",
       "      <td>6098</td>\n",
       "      <td>5840</td>\n",
       "      <td>5445</td>\n",
       "    </tr>\n",
       "  </tbody>\n",
       "</table>\n",
       "</div>"
      ],
      "text/plain": [
       "          Objective                       \n",
       "Algorithm     PyTSP    NN MS NN MS Rollout\n",
       "Instance                                  \n",
       "berlin52       7753  8980  8181       7819\n",
       "gr48           5285  6098  5840       5445"
      ]
     },
     "execution_count": 33,
     "metadata": {},
     "output_type": "execute_result"
    }
   ],
   "source": [
    "#sicherstellen, dass Reihenfolge der Algorithmen beibehalten wird \n",
    "# hier werden die Strings \"manuell\" eingegeben, ggf. anpassen!\n",
    "df[\"Algorithm\"]=df[\"Algorithm\"].astype(pd.api.types.CategoricalDtype(categories=['PyTSP','NN','MS NN', 'MS Rollout']))\n",
    "\n",
    "df_pivot = df.pivot_table(index=\"Instance\", columns=\"Algorithm\", values=[\"Objective\"])\n",
    "df_pivot"
   ]
  },
  {
   "cell_type": "markdown",
   "metadata": {
    "slideshow": {
     "slide_type": "slide"
    }
   },
   "source": [
    "## Ergebnisse aufbereiten mit Pivot-Tabellen\n",
    "\n",
    "- wir können auch Zielfunktionswert und Laufzeit in die Tabelle aufnehmen:"
   ]
  },
  {
   "cell_type": "code",
   "execution_count": 34,
   "metadata": {
    "scrolled": false,
    "slideshow": {
     "slide_type": "-"
    }
   },
   "outputs": [
    {
     "data": {
      "text/html": [
       "<div>\n",
       "<style scoped>\n",
       "    .dataframe tbody tr th:only-of-type {\n",
       "        vertical-align: middle;\n",
       "    }\n",
       "\n",
       "    .dataframe tbody tr th {\n",
       "        vertical-align: top;\n",
       "    }\n",
       "\n",
       "    .dataframe thead tr th {\n",
       "        text-align: left;\n",
       "    }\n",
       "\n",
       "    .dataframe thead tr:last-of-type th {\n",
       "        text-align: right;\n",
       "    }\n",
       "</style>\n",
       "<table border=\"1\" class=\"dataframe\">\n",
       "  <thead>\n",
       "    <tr>\n",
       "      <th></th>\n",
       "      <th colspan=\"4\" halign=\"left\">Objective</th>\n",
       "      <th colspan=\"4\" halign=\"left\">Time</th>\n",
       "    </tr>\n",
       "    <tr>\n",
       "      <th>Algorithm</th>\n",
       "      <th>PyTSP</th>\n",
       "      <th>NN</th>\n",
       "      <th>MS NN</th>\n",
       "      <th>MS Rollout</th>\n",
       "      <th>PyTSP</th>\n",
       "      <th>NN</th>\n",
       "      <th>MS NN</th>\n",
       "      <th>MS Rollout</th>\n",
       "    </tr>\n",
       "    <tr>\n",
       "      <th>Instance</th>\n",
       "      <th></th>\n",
       "      <th></th>\n",
       "      <th></th>\n",
       "      <th></th>\n",
       "      <th></th>\n",
       "      <th></th>\n",
       "      <th></th>\n",
       "      <th></th>\n",
       "    </tr>\n",
       "  </thead>\n",
       "  <tbody>\n",
       "    <tr>\n",
       "      <th>berlin52</th>\n",
       "      <td>7753</td>\n",
       "      <td>8980</td>\n",
       "      <td>8181</td>\n",
       "      <td>7819</td>\n",
       "      <td>6.4602</td>\n",
       "      <td>0.0002</td>\n",
       "      <td>0.0105</td>\n",
       "      <td>6.8795</td>\n",
       "    </tr>\n",
       "    <tr>\n",
       "      <th>gr48</th>\n",
       "      <td>5285</td>\n",
       "      <td>6098</td>\n",
       "      <td>5840</td>\n",
       "      <td>5445</td>\n",
       "      <td>10.2384</td>\n",
       "      <td>0.0002</td>\n",
       "      <td>0.0112</td>\n",
       "      <td>4.2586</td>\n",
       "    </tr>\n",
       "  </tbody>\n",
       "</table>\n",
       "</div>"
      ],
      "text/plain": [
       "          Objective                            Time                           \n",
       "Algorithm     PyTSP    NN MS NN MS Rollout    PyTSP      NN   MS NN MS Rollout\n",
       "Instance                                                                      \n",
       "berlin52       7753  8980  8181       7819   6.4602  0.0002  0.0105     6.8795\n",
       "gr48           5285  6098  5840       5445  10.2384  0.0002  0.0112     4.2586"
      ]
     },
     "execution_count": 34,
     "metadata": {},
     "output_type": "execute_result"
    }
   ],
   "source": [
    "df_pivot_both = df.pivot_table(index=\"Instance\", columns=\"Algorithm\", values=[\"Objective\",\"Time\"])\n",
    "df_pivot_both"
   ]
  },
  {
   "cell_type": "markdown",
   "metadata": {
    "slideshow": {
     "slide_type": "fragment"
    }
   },
   "source": [
    "..oder die Mittelwerte der Zeilen mit anzeigen lassen"
   ]
  },
  {
   "cell_type": "code",
   "execution_count": 35,
   "metadata": {
    "slideshow": {
     "slide_type": "-"
    }
   },
   "outputs": [
    {
     "data": {
      "text/html": [
       "<div>\n",
       "<style scoped>\n",
       "    .dataframe tbody tr th:only-of-type {\n",
       "        vertical-align: middle;\n",
       "    }\n",
       "\n",
       "    .dataframe tbody tr th {\n",
       "        vertical-align: top;\n",
       "    }\n",
       "\n",
       "    .dataframe thead tr th {\n",
       "        text-align: left;\n",
       "    }\n",
       "\n",
       "    .dataframe thead tr:last-of-type th {\n",
       "        text-align: right;\n",
       "    }\n",
       "</style>\n",
       "<table border=\"1\" class=\"dataframe\">\n",
       "  <thead>\n",
       "    <tr>\n",
       "      <th></th>\n",
       "      <th colspan=\"5\" halign=\"left\">Objective</th>\n",
       "    </tr>\n",
       "    <tr>\n",
       "      <th>Algorithm</th>\n",
       "      <th>PyTSP</th>\n",
       "      <th>NN</th>\n",
       "      <th>MS NN</th>\n",
       "      <th>MS Rollout</th>\n",
       "      <th>All</th>\n",
       "    </tr>\n",
       "    <tr>\n",
       "      <th>Instance</th>\n",
       "      <th></th>\n",
       "      <th></th>\n",
       "      <th></th>\n",
       "      <th></th>\n",
       "      <th></th>\n",
       "    </tr>\n",
       "  </thead>\n",
       "  <tbody>\n",
       "    <tr>\n",
       "      <th>berlin52</th>\n",
       "      <td>7753</td>\n",
       "      <td>8980</td>\n",
       "      <td>8181.0</td>\n",
       "      <td>7819</td>\n",
       "      <td>8183.250</td>\n",
       "    </tr>\n",
       "    <tr>\n",
       "      <th>gr48</th>\n",
       "      <td>5285</td>\n",
       "      <td>6098</td>\n",
       "      <td>5840.0</td>\n",
       "      <td>5445</td>\n",
       "      <td>5667.000</td>\n",
       "    </tr>\n",
       "    <tr>\n",
       "      <th>All</th>\n",
       "      <td>6519</td>\n",
       "      <td>7539</td>\n",
       "      <td>7010.5</td>\n",
       "      <td>6632</td>\n",
       "      <td>6925.125</td>\n",
       "    </tr>\n",
       "  </tbody>\n",
       "</table>\n",
       "</div>"
      ],
      "text/plain": [
       "          Objective                                   \n",
       "Algorithm     PyTSP    NN   MS NN MS Rollout       All\n",
       "Instance                                              \n",
       "berlin52       7753  8980  8181.0       7819  8183.250\n",
       "gr48           5285  6098  5840.0       5445  5667.000\n",
       "All            6519  7539  7010.5       6632  6925.125"
      ]
     },
     "execution_count": 35,
     "metadata": {},
     "output_type": "execute_result"
    }
   ],
   "source": [
    "\n",
    "df_pivot = df.pivot_table(index=\"Instance\", columns=\"Algorithm\", values=[\"Objective\"], margins=True)\n",
    "df_pivot"
   ]
  },
  {
   "cell_type": "markdown",
   "metadata": {
    "slideshow": {
     "slide_type": "slide"
    }
   },
   "source": [
    "## Ausgabe in LaTeX-Tabelle\n",
    "- falls Sie LaTeX nutzen, können Sie direkt LaTeX-Code zur Darstellung der Tabelle erzeugen:"
   ]
  },
  {
   "cell_type": "code",
   "execution_count": 36,
   "metadata": {
    "scrolled": false,
    "slideshow": {
     "slide_type": "slide"
    }
   },
   "outputs": [
    {
     "name": "stdout",
     "output_type": "stream",
     "text": [
      "\\begin{tabular}{lrrrrr}\n",
      "\\toprule\n",
      "{} & \\multicolumn{5}{l}{Objective} \\\\\n",
      "Algorithm &     PyTSP &    NN &   MS NN & MS Rollout &       All \\\\\n",
      "Instance &           &       &         &            &           \\\\\n",
      "\\midrule\n",
      "berlin52 &      7753 &  8980 &  8181.0 &       7819 &  8183.250 \\\\\n",
      "gr48     &      5285 &  6098 &  5840.0 &       5445 &  5667.000 \\\\\n",
      "All      &      6519 &  7539 &  7010.5 &       6632 &  6925.125 \\\\\n",
      "\\bottomrule\n",
      "\\end{tabular}\n",
      "\n"
     ]
    },
    {
     "name": "stderr",
     "output_type": "stream",
     "text": [
      "C:\\Users\\Michael\\AppData\\Local\\Temp\\ipykernel_21072\\3636991984.py:1: FutureWarning: In future versions `DataFrame.to_latex` is expected to utilise the base implementation of `Styler.to_latex` for formatting and rendering. The arguments signature may therefore change. It is recommended instead to use `DataFrame.style.to_latex` which also contains additional functionality.\n",
      "  print(df_pivot.to_latex())\n"
     ]
    }
   ],
   "source": [
    "print(df_pivot.to_latex())"
   ]
  },
  {
   "cell_type": "markdown",
   "metadata": {
    "slideshow": {
     "slide_type": "slide"
    }
   },
   "source": [
    "## Schreibe in und Lesen aus Dateien\n",
    "\n",
    "- oftmals können nicht alle Experimente und Auswertungen am Stück durchgeführt werden\n",
    "- weiterhin möchte man häufig später weitere Analysen machen und die Auswertungen auch später noch nachvollziehen können\n",
    "- mit dataframes geht das sehr leicht:"
   ]
  },
  {
   "cell_type": "markdown",
   "metadata": {
    "slideshow": {
     "slide_type": "fragment"
    }
   },
   "source": [
    "- schreiben des (ursprünglichen) data frames in eine Datei:"
   ]
  },
  {
   "cell_type": "code",
   "execution_count": 37,
   "metadata": {
    "slideshow": {
     "slide_type": "-"
    }
   },
   "outputs": [],
   "source": [
    "file_name = \"results.txt\"\n",
    "df.to_csv(file_name, index=False) # csv heisst comma-separated values"
   ]
  },
  {
   "cell_type": "markdown",
   "metadata": {
    "slideshow": {
     "slide_type": "fragment"
    }
   },
   "source": [
    "- einlesen in ein Data Frame:"
   ]
  },
  {
   "cell_type": "code",
   "execution_count": null,
   "metadata": {
    "slideshow": {
     "slide_type": "-"
    }
   },
   "outputs": [],
   "source": [
    "pd.read_csv(file_name)"
   ]
  },
  {
   "cell_type": "markdown",
   "metadata": {
    "slideshow": {
     "slide_type": "slide"
    }
   },
   "source": [
    "## Untersuchen der Auswirkung von Parametern \n",
    "\n",
    "- viele komplexere Algorithmen haben **Parameter**, die ihr Verhalten beeinflussen, z.B.\n",
    "   - Startort beim Nearest Neighbor\n",
    "   - Anzahl an betrachteten Knoten beim Simplified Rollout\n",
    "   - Anzahl der Lookahead-Steps beim Multistep Looahead\n",
    "- oftmals ist es interessant, die Auswirkung der wesentlichen Parameter auf Ergebnis und Laufzeit zu untersuchen!\n",
    "\n"
   ]
  },
  {
   "cell_type": "markdown",
   "metadata": {
    "slideshow": {
     "slide_type": "fragment"
    }
   },
   "source": [
    "><div class=\"alert alert-block alert-info\">\n",
    "<b>Wie würden Funktionen aussehen, die die Auswirkung der Anzahl der betrachteten Nachbarn beim simplified Rollout für mehrere Instanzen untersuchen und die Resultate als Liste von `dicts` zurückgeben?</b></div>  "
   ]
  },
  {
   "cell_type": "markdown",
   "metadata": {
    "slideshow": {
     "slide_type": "fragment"
    }
   },
   "source": [
    "><div class=\"alert alert-block alert-info\">\n",
    "<b>Wie würden Funktionen aussehen, die die Auswirkung der Anzahl der betrachteten Nachbarn und der Lookahead-Steps beim simplified multistep lookahead für mehrere Instanzen untersuchen und die Resultate als Liste von `dicts` zurückgeben?</b></div>  "
   ]
  },
  {
   "cell_type": "code",
   "execution_count": null,
   "metadata": {
    "slideshow": {
     "slide_type": "-"
    }
   },
   "outputs": [],
   "source": []
  },
  {
   "cell_type": "markdown",
   "metadata": {
    "slideshow": {
     "slide_type": "slide"
    }
   },
   "source": [
    "## Zusammenfassung\n",
    "\n",
    "Heute haben wir einige Techniken zum Experimentieren kennengelernt:\n",
    "- Aufrufen mehrerer Instanzen und Algorithmen\n",
    "- Datenstrukturen für Ergebnisse\n",
    "- Aufbereiten der Ergebnisse mit data frames\n",
    "- Speichern von Ergebnissen in Dateien\n",
    "- Auslesen von Ergebnissen aus Dateien\n",
    "\n",
    "\n",
    "**Bitte beachten Sie:**\n",
    "- Sie können natürlich auch anders arbeiten, z.B. direkt in Dateien schreiben\n",
    "- Hier haben wir nur zwei Instanzen genutzt - es wäre schön, wenn Sie (deutlich) mehr Instanzen für Ihre Experimente nutzen würden!"
   ]
  }
 ],
 "metadata": {
  "celltoolbar": "Slideshow",
  "kernelspec": {
   "display_name": "Python [conda env:audproj]",
   "language": "python",
   "name": "conda-env-audproj-py"
  },
  "language_info": {
   "codemirror_mode": {
    "name": "ipython",
    "version": 3
   },
   "file_extension": ".py",
   "mimetype": "text/x-python",
   "name": "python",
   "nbconvert_exporter": "python",
   "pygments_lexer": "ipython3",
   "version": "3.10.2"
  },
  "toc": {
   "base_numbering": 1,
   "nav_menu": {},
   "number_sections": false,
   "sideBar": true,
   "skip_h1_title": false,
   "title_cell": "Table of Contents",
   "title_sidebar": "Contents",
   "toc_cell": false,
   "toc_position": {},
   "toc_section_display": true,
   "toc_window_display": false
  },
  "varInspector": {
   "cols": {
    "lenName": 16,
    "lenType": 16,
    "lenVar": 40
   },
   "kernels_config": {
    "python": {
     "delete_cmd_postfix": "",
     "delete_cmd_prefix": "del ",
     "library": "var_list.py",
     "varRefreshCmd": "print(var_dic_list())"
    },
    "r": {
     "delete_cmd_postfix": ") ",
     "delete_cmd_prefix": "rm(",
     "library": "var_list.r",
     "varRefreshCmd": "cat(var_dic_list()) "
    }
   },
   "types_to_exclude": [
    "module",
    "function",
    "builtin_function_or_method",
    "instance",
    "_Feature"
   ],
   "window_display": false
  }
 },
 "nbformat": 4,
 "nbformat_minor": 4
}
