{
 "cells": [
  {
   "cell_type": "markdown",
   "metadata": {
    "slideshow": {
     "slide_type": "slide"
    }
   },
   "source": [
    "\n",
    "<img src=\"img/logo_wiwi.png\" width=\"25%\" align=\"left\">\n",
    "\n",
    "<img src=\"img/decision_analytics_logo.png\" width=\"17%\" align=\"right\">\n",
    "\n",
    "\n",
    "\n",
    "<br><br><br><br><br><br><br><br>\n",
    "\n",
    "\n",
    "\n",
    "# Algorithmen und Datenstrukturen(A+D)-Projekt \n",
    "\n",
    "**Sommersemester 2022**\n",
    "\n",
    "\n",
    "# 5. Organisatorisches und Einstieg Projekte\n",
    "\n",
    "<br>\n",
    "\n",
    "<br>\n",
    "<br>\n",
    "\n",
    "**J-Prof. Dr. Michael Römer, Till Porrmann, Jakob Schulte, Henning Witteborg**\n",
    "\n",
    "Juniorprofessur für Decision Analytics  | Universität Bielefeld"
   ]
  },
  {
   "cell_type": "code",
   "execution_count": 436,
   "metadata": {
    "slideshow": {
     "slide_type": "skip"
    }
   },
   "outputs": [],
   "source": [
    "import matplotlib.pyplot as plt\n",
    "import numpy as np\n",
    "from numba import njit"
   ]
  },
  {
   "cell_type": "markdown",
   "metadata": {
    "slideshow": {
     "slide_type": "slide"
    }
   },
   "source": [
    "## Was machen wir heute?\n",
    "\n",
    "**Organisatorisch:**\n",
    "- Wichtige Termine \n",
    "- Angebot Totorium\n",
    "- Einige allgemeine Tipps\n",
    "\n",
    "\n",
    "**Inhaltlich (getrennt nach Projektthemen)**\n",
    "- Einstieg in die Projekte, insbesondere\n",
    "  - einfache Datenstrukturen für die Projekte\n",
    "  - Einlesen von Instanzen\n",
    "\n",
    "\n",
    "\n",
    "\n"
   ]
  },
  {
   "cell_type": "markdown",
   "metadata": {
    "slideshow": {
     "slide_type": "slide"
    }
   },
   "source": [
    "# Organisatorisches"
   ]
  },
  {
   "cell_type": "markdown",
   "metadata": {
    "slideshow": {
     "slide_type": "slide"
    }
   },
   "source": [
    "## Termine Zwischen- und Abschlusspräsentation\n",
    "\n",
    "**Zwischenpräsentation**: Dienstag,  25. Mai 2022 von 12 - 16 Uhr\n",
    "\n",
    "**Frage:**\n",
    "- wem würde der Slot von 14 bis 16 Uhr auf keinen Fall passen?"
   ]
  },
  {
   "cell_type": "markdown",
   "metadata": {
    "slideshow": {
     "slide_type": "fragment"
    }
   },
   "source": [
    "**Abschlusspräsentation**: Dienstag, 12. Juli 12-16\n",
    "\n"
   ]
  },
  {
   "cell_type": "markdown",
   "metadata": {
    "slideshow": {
     "slide_type": "slide"
    }
   },
   "source": [
    "## Zur Zwischenpräsentation\n",
    "\n",
    "\n",
    "- **Dauer:** Je Gruppe: 15 Minuten + 5 Minuten Diskussion\n",
    "\n",
    "**Inhalte:**\n",
    "- Kurze Beschreibung des Optimierungsproblems\n",
    "- Sachliche Ergebnisse, z.B.:\n",
    "    - Vorstellung des / der bisher Entwickelten Algorithmen\n",
    "    - Erste Ergebnisse - Qualität und Laufzeit\n",
    "- Erfahrungen aus der Projektarbeit, z.B.\n",
    "  - Arbeitsweise\n",
    "  - Herausforderungen / Erfolge\n",
    "\n",
    "- Ziele / geplante weitere Arbeiten bis zum Projektende\n",
    "\n"
   ]
  },
  {
   "cell_type": "markdown",
   "metadata": {
    "slideshow": {
     "slide_type": "slide"
    }
   },
   "source": [
    "## Weitere Termine:\n",
    "\n",
    "- **nächste Woche Dienstag** gleiche Zeit, gleicher Ort: **freiwilliges Tutorium** zu Rollout etc. mit den Doktoranden (im normalen Kursraum)\n",
    "\n",
    "- **im weiteren Verlauf:** wahrscheinlich ein Termin zur Gestaltung und Auswertung der Experimente mit den Algorithmen\n",
    "\n",
    "- **28. Juni**: Abgabe Projektberichte"
   ]
  },
  {
   "cell_type": "markdown",
   "metadata": {
    "slideshow": {
     "slide_type": "slide"
    }
   },
   "source": [
    "## Tipps für die weitere Projektarbeit: Tools\n",
    "\n",
    "- falls noch nicht geschehen: Installieren Sie Python und die nötigen Pakete auf Ihrem Rechner\n",
    "  - bei Problemen: Wenden Sie sich an einen Ihren der Dozenten - wir bekommen das hin!\n",
    "- spielen Sie mit dem Einstiegs- und Beispielcode (laden Sie sich ggf. einfach die gesamten Dateien der Veranstaltung herunter, siehe Link im LernRaum\n",
    "- nutzen Sie ein Tool wie Dropbox oder sciebo (wie Dropbox, nur von der Uni) zum Teilen von Dateien und Ergebnissen innerhalb Ihrer Gruppe!\n"
   ]
  },
  {
   "cell_type": "markdown",
   "metadata": {
    "slideshow": {
     "slide_type": "slide"
    }
   },
   "source": [
    "## Tipps für die weitere Projektarbeit: Betreung\n",
    "\n",
    "**Nehmen Sie die Betreuung in Anspruch!**\n",
    "- machen Sie regelmäßige Termine mit Ihrem Betreuer\n",
    "- fragen Sie Ihren Betreuer auch bei (scheinbar) einfachen Problemen\n",
    "  - es gibt keine dummen Fragen\n",
    "  \n",
    "- falls Ihr Betreuer der Juniorprofessor ist: Haben Sie keine Scheu, ihn zu kontaktieren!\n",
    "\n"
   ]
  },
  {
   "cell_type": "markdown",
   "metadata": {
    "slideshow": {
     "slide_type": "slide"
    }
   },
   "source": [
    "## Jetzt: Einstieg in die Projektarbeit\n",
    "\n",
    "- Ziel: Ein guter Einstieg finden in Ihr Projektthema\n",
    "  - insbesondere zeigen wir Ihnen, wie Sie Instanzen in einfache Datenstrukturen einlesen können\n",
    "\n",
    "- je ein Raum je Projektthema\n",
    "- bitte wechseln Sie ggf. gemeinsam mit dem Betreuer den Raum!"
   ]
  }
 ],
 "metadata": {
  "celltoolbar": "Slideshow",
  "kernelspec": {
   "display_name": "Python [conda env:audproj]",
   "language": "python",
   "name": "conda-env-audproj-py"
  },
  "language_info": {
   "codemirror_mode": {
    "name": "ipython",
    "version": 3
   },
   "file_extension": ".py",
   "mimetype": "text/x-python",
   "name": "python",
   "nbconvert_exporter": "python",
   "pygments_lexer": "ipython3",
   "version": "3.10.2"
  },
  "toc": {
   "base_numbering": 1,
   "nav_menu": {},
   "number_sections": false,
   "sideBar": true,
   "skip_h1_title": false,
   "title_cell": "Table of Contents",
   "title_sidebar": "Contents",
   "toc_cell": false,
   "toc_position": {},
   "toc_section_display": true,
   "toc_window_display": false
  },
  "varInspector": {
   "cols": {
    "lenName": 16,
    "lenType": 16,
    "lenVar": 40
   },
   "kernels_config": {
    "python": {
     "delete_cmd_postfix": "",
     "delete_cmd_prefix": "del ",
     "library": "var_list.py",
     "varRefreshCmd": "print(var_dic_list())"
    },
    "r": {
     "delete_cmd_postfix": ") ",
     "delete_cmd_prefix": "rm(",
     "library": "var_list.r",
     "varRefreshCmd": "cat(var_dic_list()) "
    }
   },
   "types_to_exclude": [
    "module",
    "function",
    "builtin_function_or_method",
    "instance",
    "_Feature"
   ],
   "window_display": false
  }
 },
 "nbformat": 4,
 "nbformat_minor": 4
}
