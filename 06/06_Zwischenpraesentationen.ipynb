{
 "cells": [
  {
   "cell_type": "markdown",
   "metadata": {
    "slideshow": {
     "slide_type": "slide"
    }
   },
   "source": [
    "\n",
    "<img src=\"img/logo_wiwi.png\" width=\"25%\" align=\"left\">\n",
    "\n",
    "<img src=\"img/decision_analytics_logo.png\" width=\"17%\" align=\"right\">\n",
    "\n",
    "\n",
    "\n",
    "<br><br><br><br><br><br><br><br>\n",
    "\n",
    "\n",
    "\n",
    "# Algorithmen und Datenstrukturen(A+D)-Projekt \n",
    "\n",
    "**Sommersemester 2022**\n",
    "\n",
    "\n",
    "# 6. Zwischenpräsentationen\n",
    "\n",
    "<br>\n",
    "\n",
    "<br>\n",
    "<br>\n",
    "\n",
    "**J-Prof. Dr. Michael Römer, Till Porrmann, Jakob Schulte, Henning Witteborg**\n",
    "\n",
    "Juniorprofessur für Decision Analytics  | Universität Bielefeld"
   ]
  },
  {
   "cell_type": "code",
   "execution_count": 436,
   "metadata": {
    "slideshow": {
     "slide_type": "skip"
    }
   },
   "outputs": [],
   "source": [
    "import matplotlib.pyplot as plt\n",
    "import numpy as np\n",
    "from numba import njit"
   ]
  },
  {
   "cell_type": "markdown",
   "metadata": {
    "slideshow": {
     "slide_type": "slide"
    }
   },
   "source": [
    "## Was machen wir heute?\n",
    "\n",
    "**Organisatorisch:**\n",
    "- Informationen zum Abschlussbericht\n",
    "- Ankündigung weiterer Termin zum Thema Experimente\n",
    "\n",
    "\n",
    "**Zwischenpräsentationen**\n",
    "\n",
    "\n",
    "\n",
    "\n",
    "\n"
   ]
  },
  {
   "cell_type": "markdown",
   "metadata": {
    "slideshow": {
     "slide_type": "slide"
    }
   },
   "source": [
    "# Organisatorisches"
   ]
  },
  {
   "cell_type": "markdown",
   "metadata": {
    "slideshow": {
     "slide_type": "slide"
    }
   },
   "source": [
    "## Prüfungsleistung\n",
    "\n",
    "\n",
    "\n",
    "\n",
    "Formale Prüfungsleistung ist der **Projektbericht**\n",
    "- wird von der Gruppe gemeinsam erstellt\n",
    "- als Anlage: kurze Beschreibung der Beiträge der einzelnen Teilnehmer*innen\n",
    "- Umfang: ca 20-30 Seiten pro Gruppe\n",
    "\n",
    "\n",
    "Wir behalten uns vor, Einzelgespräche mit Gruppenmitgliedern zu führen, wenn wir den Eindruck haben, dass eine eine Binnendifferenzierung in einer Gruppe angezeigt ist."
   ]
  },
  {
   "cell_type": "markdown",
   "metadata": {
    "slideshow": {
     "slide_type": "slide"
    }
   },
   "source": [
    "## Projektbericht: Formatierung\n",
    "\n",
    "**Formatierung:**\n",
    "- Wir stellen im LernRaum Formatvorlagen in folgenden Formaten bereit:\n",
    "  - LaTeX (kann z.B. in Overleaf bearbeitet werden)\n",
    "  - .docx (kann z.B. in Microsoft Word oder LibreOffice bearbeitet werden)\n",
    "- diese sind ursprünglich für Seminar- und Abschlussarbeiten erstellt worden, können hier aber auch verwendet werden\n",
    "- stellen sicher, dass Zeilenabstände, Seitenränder etc. passen \n",
    "- geben Hinweise zur Gestaltung von Überschriften, Inhaltsverzeichnis, Beschriftung von Abbildungen etc.\n",
    "\n",
    "\n"
   ]
  },
  {
   "cell_type": "markdown",
   "metadata": {
    "slideshow": {
     "slide_type": "slide"
    }
   },
   "source": [
    "## Projektbericht: Inhalte\n",
    "\n",
    "**Beschreibung des Optimierungsproblems**\n",
    "- Beschreiben Sie das Problem\n",
    "- ggf. mit kleinen Beispielen und Abbildungen\n",
    "  - auf diese können Sie sich dann auch in der Erlärung der Algorithmen beziehen\n",
    "\n",
    "**dabei: Literatur**\n",
    "- der Projektbericht ist keine Seminarar- oder Abschlussarbeit - der Anspruch an die Literaturarbeit ist geringer\n",
    "- beachten Sie: Sie bearbeiten sehr bekannte und vielfach untersuchte Probleme, d.h. es gibt sehr viel Literatur \n",
    "  - es ist nicht nötig, einen kompletten Literaturüberblick zu geben\n",
    "- interessant wäre es allerdings, zu diskutieren:\n",
    "  - wie groß sind Instanzen, die heute optimal gelöst werden können?\n",
    "  - welche Algorithmen können das (Sie müssen diese nicht komplett verstehen, Nennung reicht)\n",
    "\n"
   ]
  },
  {
   "cell_type": "markdown",
   "metadata": {
    "slideshow": {
     "slide_type": "slide"
    }
   },
   "source": [
    "## Projektbericht: Inhalte\n",
    "\n",
    "**Erklärung der Algorithmen**\n",
    "Bitte Erläutern Sie die wesentlichen (Varianten von) Algorithmen, die Sie entwickelt haben\n",
    "- versuchen Sie, diese zu charakterisieren mit den Begriffen aus der Veranstaltung (Greedy, Rollout, etc.) \n",
    "- oder ggf. mit Begriffen aus der Literatur (z.B. falls Sie bestimmte bekannte Greedy-Kriterien oder Prioritätsregeln verwenden)\n",
    "\n",
    "**Algorithmen können auf verschiedene Arten dargestellt werden**\n",
    "- (Ablauf)-Diagramme\n",
    "- Pseudocode\n",
    "- Python-Code\n",
    "\n",
    "**Bitte beachten Sie:**\n",
    "- stellen Sie möglichst nur die Kernlogik dar und lagern Sie kleinere Schritte in Funktionen aus (die ggf. gesondert dargestellt werden)\n",
    "- erläutern Sie die Algorithmen im Text\n",
    "\n"
   ]
  },
  {
   "cell_type": "markdown",
   "metadata": {
    "slideshow": {
     "slide_type": "slide"
    }
   },
   "source": [
    "## Projektbericht: Inhalte\n",
    "\n",
    "**Resultate der durchgeführten Experimente**\n",
    "\n",
    "- interessant sind vor allem Vergleiche in Bezug auf Laufzeit und Lösungsgüte (Zielfunktion)\n",
    "  - zwischen von Ihnen entwickelten Varianten (welche Verbesserung wird wodurch erzielt)\n",
    "    - berichten Sie auch, ob und ggf. warum bestimmte Ansätze nicht (so gut) funktioniert haben\n",
    "  - falls vorhanden: Abstände zur optimalen Lösungen\n",
    "  - falls vorhanden: Vergleich mit existierenden Implementierungen von Heuristiken\n",
    "\n",
    "- führen Sie Experimente mit mehreren Instanzen durch\n",
    "  - berichten Sie dann entweder aggregierte Werte, Einzelwerte oder ggf. beides\n",
    "\n",
    "\n",
    "- wir werden hierzu nochmal eine gesonderte Veranstaltung durchführen!\n",
    "\n",
    "\n",
    "**Zusammenfassung**\n",
    "- Zusammenfassung der Ergebnisse des Projekts\n",
    "- ggf. Ausblick auf mögliche Erweiterungen, die Ihnen viel versprechend erscheinen"
   ]
  },
  {
   "cell_type": "markdown",
   "metadata": {
    "slideshow": {
     "slide_type": "slide"
    }
   },
   "source": [
    "# Zwischenpräsentationen"
   ]
  },
  {
   "cell_type": "markdown",
   "metadata": {
    "slideshow": {
     "slide_type": "slide"
    }
   },
   "source": [
    "## Zwischenpräsentationen: Reihenfolge\n",
    "|Gruppe | Thema | Gruppenmitglieder \n",
    "|-|:-|:-|\n",
    "|7| Job Shop Scheduling | JB, JR, CG, PH\n",
    "|8| Job Shop Scheduling| LF, LH, FS, SK\n",
    "|1| Set Covering | SA, EB, HC, KB, HH\n",
    "|2| Set Covering | GK, FD, GF, FE, AA\n",
    "|3| Maximum Independent Set | RF, MF, SH, SR\n",
    "|4| Maximum Independent Set | AE, KS, DS\n",
    "|5| Vertex Coloring | JF, LM, IT, JS\n",
    "|6| Vertex Coloring | AH, NK, NS, DP\n",
    "\n"
   ]
  },
  {
   "cell_type": "markdown",
   "metadata": {
    "slideshow": {
     "slide_type": "slide"
    }
   },
   "source": [
    "## Termine Zwischen- und Abschlusspräsentation\n",
    "\n",
    "**Zwischenpräsentation**: Dienstag,  24. Mai 2022 von 12 - 16 Uhr\n",
    "\n",
    "**Frage:**\n",
    "- wem würde der Slot von 14 bis 16 Uhr auf keinen Fall passen?"
   ]
  },
  {
   "cell_type": "markdown",
   "metadata": {
    "slideshow": {
     "slide_type": "fragment"
    }
   },
   "source": [
    "**Abschlusspräsentation**: Dienstag, 12. Juli 12-16\n",
    "\n"
   ]
  },
  {
   "cell_type": "markdown",
   "metadata": {
    "slideshow": {
     "slide_type": "slide"
    }
   },
   "source": [
    "## Zur Zwischenpräsentation\n",
    "\n",
    "\n",
    "- **Dauer:** Je Gruppe: 15 Minuten + 5 Minuten Diskussion\n",
    "\n",
    "**Inhalte:**\n",
    "- Kurze Beschreibung des Optimierungsproblems\n",
    "- Sachliche Ergebnisse, z.B.:\n",
    "    - Vorstellung des / der bisher entwickelten Algorithmen\n",
    "    - Erste Ergebnisse - Qualität und Laufzeit\n",
    "- Erfahrungen aus der Projektarbeit, z.B.\n",
    "  - Arbeitsweise\n",
    "  - Herausforderungen / Erfolge\n",
    "\n",
    "- Ziele / geplante weitere Arbeiten bis zum Projektende\n",
    "\n"
   ]
  },
  {
   "cell_type": "markdown",
   "metadata": {
    "slideshow": {
     "slide_type": "slide"
    }
   },
   "source": [
    "## Weitere Termine:\n",
    "\n",
    "- **nächste Woche Dienstag** gleiche Zeit, gleicher Ort: **freiwilliges Tutorium** zu Rollout etc. mit den Doktoranden (im normalen Kursraum)\n",
    "\n",
    "- **im weiteren Verlauf:** wahrscheinlich ein Termin zur Gestaltung und Auswertung der Experimente mit den Algorithmen\n",
    "\n",
    "- **28. Juni**: Abgabe Projektberichte"
   ]
  },
  {
   "cell_type": "markdown",
   "metadata": {
    "slideshow": {
     "slide_type": "slide"
    }
   },
   "source": [
    "## Tipps für die weitere Projektarbeit: Tools\n",
    "\n",
    "- falls noch nicht geschehen: Installieren Sie Python und die nötigen Pakete auf Ihrem Rechner\n",
    "  - bei Problemen: Wenden Sie sich an einen Ihren der Dozenten - wir bekommen das hin!\n",
    "- spielen Sie mit dem Einstiegs- und Beispielcode (laden Sie sich ggf. einfach die gesamten Dateien der Veranstaltung herunter, siehe Link im LernRaum\n",
    "- nutzen Sie ein Tool wie Dropbox oder sciebo (wie Dropbox, nur von der Uni) zum Teilen von Dateien und Ergebnissen innerhalb Ihrer Gruppe!\n"
   ]
  },
  {
   "cell_type": "markdown",
   "metadata": {
    "slideshow": {
     "slide_type": "slide"
    }
   },
   "source": [
    "## Tipps für die weitere Projektarbeit: Betreung\n",
    "\n",
    "**Nehmen Sie die Betreuung in Anspruch!**\n",
    "- machen Sie regelmäßige Termine mit Ihrem Betreuer\n",
    "- fragen Sie Ihren Betreuer auch bei (scheinbar) einfachen Problemen\n",
    "  - es gibt keine dummen Fragen\n",
    "  \n",
    "- falls Ihr Betreuer der Juniorprofessor ist: Haben Sie keine Scheu, ihn zu kontaktieren!\n",
    "\n"
   ]
  },
  {
   "cell_type": "markdown",
   "metadata": {
    "slideshow": {
     "slide_type": "slide"
    }
   },
   "source": [
    "## Jetzt: Einstieg in die Projektarbeit\n",
    "\n",
    "- Ziel: Ein guter Einstieg finden in Ihr Projektthema\n",
    "  - insbesondere zeigen wir Ihnen, wie Sie Instanzen in einfache Datenstrukturen einlesen können\n",
    "\n",
    "- je ein Raum je Projektthema\n",
    "- bitte wechseln Sie ggf. gemeinsam mit dem Betreuer den Raum!"
   ]
  }
 ],
 "metadata": {
  "celltoolbar": "Slideshow",
  "kernelspec": {
   "display_name": "Python [conda env:shift_scheduling]",
   "language": "python",
   "name": "conda-env-shift_scheduling-py"
  },
  "language_info": {
   "codemirror_mode": {
    "name": "ipython",
    "version": 3
   },
   "file_extension": ".py",
   "mimetype": "text/x-python",
   "name": "python",
   "nbconvert_exporter": "python",
   "pygments_lexer": "ipython3",
   "version": "3.9.10"
  },
  "toc": {
   "base_numbering": 1,
   "nav_menu": {},
   "number_sections": false,
   "sideBar": true,
   "skip_h1_title": false,
   "title_cell": "Table of Contents",
   "title_sidebar": "Contents",
   "toc_cell": false,
   "toc_position": {},
   "toc_section_display": true,
   "toc_window_display": false
  },
  "varInspector": {
   "cols": {
    "lenName": 16,
    "lenType": 16,
    "lenVar": 40
   },
   "kernels_config": {
    "python": {
     "delete_cmd_postfix": "",
     "delete_cmd_prefix": "del ",
     "library": "var_list.py",
     "varRefreshCmd": "print(var_dic_list())"
    },
    "r": {
     "delete_cmd_postfix": ") ",
     "delete_cmd_prefix": "rm(",
     "library": "var_list.r",
     "varRefreshCmd": "cat(var_dic_list()) "
    }
   },
   "types_to_exclude": [
    "module",
    "function",
    "builtin_function_or_method",
    "instance",
    "_Feature"
   ],
   "window_display": false
  }
 },
 "nbformat": 4,
 "nbformat_minor": 4
}
